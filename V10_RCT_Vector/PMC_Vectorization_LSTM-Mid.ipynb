{
 "cells": [
  {
   "cell_type": "markdown",
   "metadata": {},
   "source": [
    "# Summary\n",
    "\n",
    "Thanks for Dave to share the great PMC vectorization file: http://evexdb.org/pmresources/vec-space-models/\n",
    "\n",
    "The vectorization part is developed from the tutorials by Francois Chollet.\n",
    "\n",
    "https://blog.keras.io/using-pre-trained-word-embeddings-in-a-keras-model.html\n",
    "\n",
    "A smaller LSTM is used. \n",
    "Smaller sequence length."
   ]
  },
  {
   "cell_type": "code",
   "execution_count": 1,
   "metadata": {},
   "outputs": [
    {
     "name": "stderr",
     "output_type": "stream",
     "text": [
      "/home/dc/anaconda3/envs/tensorflow/lib/python3.6/site-packages/h5py/__init__.py:36: FutureWarning: Conversion of the second argument of issubdtype from `float` to `np.floating` is deprecated. In future, it will be treated as `np.float64 == np.dtype(float).type`.\n",
      "  from ._conv import register_converters as _register_converters\n",
      "Using TensorFlow backend.\n"
     ]
    }
   ],
   "source": [
    "from __future__ import print_function\n",
    "\n",
    "import os\n",
    "import sys\n",
    "import numpy as np\n",
    "from keras.preprocessing.text import Tokenizer\n",
    "from keras.preprocessing.sequence import pad_sequences\n",
    "from keras.utils import to_categorical\n",
    "from keras.layers import Dense, Input, GlobalMaxPooling1D\n",
    "from keras.layers import Conv1D, MaxPooling1D, Embedding\n",
    "from keras.models import Model\n",
    "from gensim.models import KeyedVectors\n",
    "import pickle\n",
    "from sklearn.model_selection import GridSearchCV, train_test_split\n",
    "from keras.layers import GRU, Bidirectional, BatchNormalization, Reshape\n",
    "from keras.layers import Dense, Activation, Dropout, Input, Masking, TimeDistributed, LSTM, Conv1D\n",
    "from keras.optimizers import Adam\n",
    "\n",
    "\n",
    "\n",
    "MAX_SEQUENCE_LENGTH = 100\n",
    "MAX_NUM_WORDS = 20000\n",
    "EMBEDDING_DIM = 200"
   ]
  },
  {
   "cell_type": "markdown",
   "metadata": {},
   "source": [
    "# 1 Vectorization"
   ]
  },
  {
   "cell_type": "code",
   "execution_count": 2,
   "metadata": {},
   "outputs": [],
   "source": [
    "embeddings_index = KeyedVectors.load_word2vec_format('PubMed-and-PMC-w2v.bin', binary=True)"
   ]
  },
  {
   "cell_type": "code",
   "execution_count": 3,
   "metadata": {},
   "outputs": [],
   "source": [
    "p_file = 'data_X'\n",
    "\n",
    "with open(p_file, 'rb') as fin:\n",
    "    data_X = pickle.load(fin)"
   ]
  },
  {
   "cell_type": "code",
   "execution_count": 4,
   "metadata": {},
   "outputs": [],
   "source": [
    "p_file = 'RCT_labels'\n",
    "\n",
    "with open(p_file, 'rb') as fin:\n",
    "    labels = pickle.load(fin)"
   ]
  },
  {
   "cell_type": "code",
   "execution_count": 5,
   "metadata": {
    "scrolled": true
   },
   "outputs": [],
   "source": [
    "# vectorize the text into a 2D integer tensor\n",
    "tokenizer = Tokenizer(num_words=MAX_NUM_WORDS)\n",
    "tokenizer.fit_on_texts(data_X)\n",
    "sequences = tokenizer.texts_to_sequences(data_X)"
   ]
  },
  {
   "cell_type": "code",
   "execution_count": 6,
   "metadata": {},
   "outputs": [
    {
     "name": "stdout",
     "output_type": "stream",
     "text": [
      "Found 1805160 unique tokens.\n",
      "Shape of data tensor: (19111, 100)\n",
      "Shape of label tensor: (19111, 2)\n"
     ]
    }
   ],
   "source": [
    "word_index = tokenizer.word_index\n",
    "print('Found %s unique tokens.' % len(word_index))\n",
    "\n",
    "data = pad_sequences(sequences, maxlen=MAX_SEQUENCE_LENGTH)\n",
    "\n",
    "labels = to_categorical(np.asarray(labels))\n",
    "print('Shape of data tensor:', data.shape)\n",
    "print('Shape of label tensor:', labels.shape)"
   ]
  },
  {
   "cell_type": "code",
   "execution_count": 7,
   "metadata": {},
   "outputs": [],
   "source": [
    "p_file = 'Models/vectors_small1'\n",
    "\n",
    "with open(p_file, 'wb') as fout:\n",
    "    pickle.dump(data, fout)"
   ]
  },
  {
   "cell_type": "code",
   "execution_count": 8,
   "metadata": {},
   "outputs": [
    {
     "name": "stdout",
     "output_type": "stream",
     "text": [
      "Preparing embedding matrix.\n"
     ]
    }
   ],
   "source": [
    "print('Preparing embedding matrix.')\n",
    "\n",
    "# prepare embedding matrix\n",
    "num_words = min(MAX_NUM_WORDS, len(word_index) + 1)\n",
    "embedding_matrix = np.zeros((num_words, EMBEDDING_DIM))\n",
    "for word, i in word_index.items():\n",
    "    if i >= MAX_NUM_WORDS:\n",
    "        continue\n",
    "    try:\n",
    "        embedding_vector = embeddings_index[word]\n",
    "    except KeyError:\n",
    "        continue\n",
    "    if embedding_vector is not None:\n",
    "        # words not found in embedding index will be all-zeros.\n",
    "        embedding_matrix[i] = embedding_vector\n",
    "\n",
    "        \n",
    "p_file = 'Models/embedding_matrix_small1'\n",
    "\n",
    "with open(p_file, 'wb') as fout:\n",
    "    pickle.dump(embedding_matrix, fout)\n",
    "    \n"
   ]
  },
  {
   "cell_type": "code",
   "execution_count": 8,
   "metadata": {},
   "outputs": [],
   "source": [
    "X_train, X_test, Y_train, Y_test = train_test_split(data, labels, test_size=0.25)"
   ]
  },
  {
   "cell_type": "code",
   "execution_count": 10,
   "metadata": {},
   "outputs": [],
   "source": [
    "# load pre-trained word embeddings into an Embedding layer\n",
    "# note that we set trainable = False so as to keep the embeddings fixed\n",
    "embedding_layer = Embedding(MAX_NUM_WORDS,\n",
    "                            EMBEDDING_DIM,\n",
    "                            weights=[embedding_matrix],\n",
    "                            input_length=MAX_SEQUENCE_LENGTH,\n",
    "                            trainable=False)"
   ]
  },
  {
   "cell_type": "markdown",
   "metadata": {},
   "source": [
    "# 2 LSTM"
   ]
  },
  {
   "cell_type": "code",
   "execution_count": 11,
   "metadata": {},
   "outputs": [],
   "source": [
    "def model():\n",
    "        \n",
    "    sequence_input = Input(shape=(MAX_SEQUENCE_LENGTH,), dtype='int32')\n",
    "    embedded_sequences = embedding_layer(sequence_input)\n",
    "    \n",
    "    # Cov layer\n",
    "    X = Conv1D(filters=256, kernel_size=15, strides=4)(embedded_sequences)                                 # CONV1D\n",
    "    X = BatchNormalization()(X)                                 # Batch normalization\n",
    "    X = Activation('relu')(X)                                 # ReLu activation\n",
    "    X = Dropout(0.6)(X)                                 # dropout\n",
    "    \n",
    "    # LSTM layer 1\n",
    "    X = LSTM(128, return_sequences=True, recurrent_dropout = 0.5)(X)\n",
    "    X = Dropout(0.5)(X)\n",
    "    \n",
    "    # LSTM layer 2 \n",
    "    X = LSTM(128, recurrent_dropout = 0.5)(X)\n",
    "    X = Dropout(0.5)(X)\n",
    "    \n",
    "    X = Dense(2)(X)  \n",
    "    # Softmax layer\n",
    "    X = Activation('softmax')(X)\n",
    "    \n",
    "    # Create Model instance\n",
    "    model = Model(inputs = sequence_input, outputs = X)\n",
    "        \n",
    "    return model"
   ]
  },
  {
   "cell_type": "code",
   "execution_count": 12,
   "metadata": {},
   "outputs": [],
   "source": [
    "model = model()"
   ]
  },
  {
   "cell_type": "code",
   "execution_count": 13,
   "metadata": {},
   "outputs": [
    {
     "name": "stdout",
     "output_type": "stream",
     "text": [
      "_________________________________________________________________\n",
      "Layer (type)                 Output Shape              Param #   \n",
      "=================================================================\n",
      "input_1 (InputLayer)         (None, 100)               0         \n",
      "_________________________________________________________________\n",
      "embedding_1 (Embedding)      (None, 100, 200)          4000000   \n",
      "_________________________________________________________________\n",
      "conv1d_1 (Conv1D)            (None, 22, 256)           768256    \n",
      "_________________________________________________________________\n",
      "batch_normalization_1 (Batch (None, 22, 256)           1024      \n",
      "_________________________________________________________________\n",
      "activation_1 (Activation)    (None, 22, 256)           0         \n",
      "_________________________________________________________________\n",
      "dropout_1 (Dropout)          (None, 22, 256)           0         \n",
      "_________________________________________________________________\n",
      "lstm_1 (LSTM)                (None, 22, 128)           197120    \n",
      "_________________________________________________________________\n",
      "dropout_2 (Dropout)          (None, 22, 128)           0         \n",
      "_________________________________________________________________\n",
      "lstm_2 (LSTM)                (None, 128)               131584    \n",
      "_________________________________________________________________\n",
      "dropout_3 (Dropout)          (None, 128)               0         \n",
      "_________________________________________________________________\n",
      "dense_1 (Dense)              (None, 2)                 258       \n",
      "_________________________________________________________________\n",
      "activation_2 (Activation)    (None, 2)                 0         \n",
      "=================================================================\n",
      "Total params: 5,098,242\n",
      "Trainable params: 1,097,730\n",
      "Non-trainable params: 4,000,512\n",
      "_________________________________________________________________\n"
     ]
    }
   ],
   "source": [
    "model.summary()"
   ]
  },
  {
   "cell_type": "code",
   "execution_count": 14,
   "metadata": {},
   "outputs": [],
   "source": [
    "opt = Adam(lr=0.0003, beta_1=0.9, beta_2=0.999, decay=0.01)\n",
    "model.compile(loss='binary_crossentropy', optimizer=opt, metrics=[\"accuracy\"])"
   ]
  },
  {
   "cell_type": "code",
   "execution_count": 15,
   "metadata": {},
   "outputs": [
    {
     "name": "stdout",
     "output_type": "stream",
     "text": [
      "Epoch 1/20\n",
      "14333/14333 [==============================] - 31s 2ms/step - loss: 0.5016 - acc: 0.7654\n",
      "Epoch 2/20\n",
      "14333/14333 [==============================] - 28s 2ms/step - loss: 0.4499 - acc: 0.8002\n",
      "Epoch 3/20\n",
      "14333/14333 [==============================] - 28s 2ms/step - loss: 0.4348 - acc: 0.8096\n",
      "Epoch 4/20\n",
      "14333/14333 [==============================] - 28s 2ms/step - loss: 0.4256 - acc: 0.8148\n",
      "Epoch 5/20\n",
      "14333/14333 [==============================] - 28s 2ms/step - loss: 0.4163 - acc: 0.8206\n",
      "Epoch 6/20\n",
      "14333/14333 [==============================] - 28s 2ms/step - loss: 0.4078 - acc: 0.8243\n",
      "Epoch 7/20\n",
      "14333/14333 [==============================] - 28s 2ms/step - loss: 0.4053 - acc: 0.8264\n",
      "Epoch 8/20\n",
      "14333/14333 [==============================] - 28s 2ms/step - loss: 0.3988 - acc: 0.8293\n",
      "Epoch 9/20\n",
      "14333/14333 [==============================] - 28s 2ms/step - loss: 0.3943 - acc: 0.8282\n",
      "Epoch 10/20\n",
      "14333/14333 [==============================] - 28s 2ms/step - loss: 0.3896 - acc: 0.8314\n",
      "Epoch 11/20\n",
      "14333/14333 [==============================] - 28s 2ms/step - loss: 0.3900 - acc: 0.8344\n",
      "Epoch 12/20\n",
      "14333/14333 [==============================] - 28s 2ms/step - loss: 0.3856 - acc: 0.8362\n",
      "Epoch 13/20\n",
      "14333/14333 [==============================] - 28s 2ms/step - loss: 0.3837 - acc: 0.8360\n",
      "Epoch 14/20\n",
      "14333/14333 [==============================] - 28s 2ms/step - loss: 0.3805 - acc: 0.8388\n",
      "Epoch 15/20\n",
      "14333/14333 [==============================] - 28s 2ms/step - loss: 0.3773 - acc: 0.8420\n",
      "Epoch 16/20\n",
      "14333/14333 [==============================] - 28s 2ms/step - loss: 0.3755 - acc: 0.8388\n",
      "Epoch 17/20\n",
      "14333/14333 [==============================] - 28s 2ms/step - loss: 0.3774 - acc: 0.8404\n",
      "Epoch 18/20\n",
      "14333/14333 [==============================] - 28s 2ms/step - loss: 0.3706 - acc: 0.8458\n",
      "Epoch 19/20\n",
      "14333/14333 [==============================] - 28s 2ms/step - loss: 0.3685 - acc: 0.8468\n",
      "Epoch 20/20\n",
      "14333/14333 [==============================] - 28s 2ms/step - loss: 0.3687 - acc: 0.8427\n"
     ]
    },
    {
     "data": {
      "text/plain": [
       "<keras.callbacks.History at 0x7f737412d7f0>"
      ]
     },
     "execution_count": 15,
     "metadata": {},
     "output_type": "execute_result"
    }
   ],
   "source": [
    "# Fit the model\n",
    "model.fit(X_train, Y_train, batch_size = 64, epochs=20)"
   ]
  },
  {
   "cell_type": "code",
   "execution_count": 16,
   "metadata": {},
   "outputs": [],
   "source": [
    "model_json = model.to_json()\n",
    "with open (\"Models/LSTMMid.json\", \"w\") as json_file:\n",
    "    json_file.write(model_json)\n",
    "model.save_weights(\"Models/LSTMMid.h5\")"
   ]
  },
  {
   "cell_type": "code",
   "execution_count": 17,
   "metadata": {},
   "outputs": [
    {
     "name": "stdout",
     "output_type": "stream",
     "text": [
      "4778/4778 [==============================] - 5s 984us/step\n",
      "Validation set accuracy =  0.8003348681706173\n"
     ]
    }
   ],
   "source": [
    "loss, acc = model.evaluate(X_test, Y_test)\n",
    "print(\"Validation set accuracy = \", acc)"
   ]
  },
  {
   "cell_type": "code",
   "execution_count": null,
   "metadata": {},
   "outputs": [],
   "source": []
  }
 ],
 "metadata": {
  "kernelspec": {
   "display_name": "TensorFlow",
   "language": "python",
   "name": "tensorflow"
  },
  "language_info": {
   "codemirror_mode": {
    "name": "ipython",
    "version": 3
   },
   "file_extension": ".py",
   "mimetype": "text/x-python",
   "name": "python",
   "nbconvert_exporter": "python",
   "pygments_lexer": "ipython3",
   "version": "3.6.5"
  }
 },
 "nbformat": 4,
 "nbformat_minor": 2
}

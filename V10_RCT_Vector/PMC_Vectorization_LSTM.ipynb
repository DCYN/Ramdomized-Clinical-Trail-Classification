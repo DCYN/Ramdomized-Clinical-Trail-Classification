{
 "cells": [
  {
   "cell_type": "markdown",
   "metadata": {},
   "source": [
    "# Summary\n",
    "\n",
    "Thanks for Dave to share the great PMC vectorization file: http://evexdb.org/pmresources/vec-space-models/\n",
    "\n",
    "The vectorization part is developed from the tutorials by Francois Chollet.\n",
    "\n",
    "https://blog.keras.io/using-pre-trained-word-embeddings-in-a-keras-model.html"
   ]
  },
  {
   "cell_type": "code",
   "execution_count": 1,
   "metadata": {},
   "outputs": [
    {
     "name": "stderr",
     "output_type": "stream",
     "text": [
      "/home/dc/anaconda3/envs/tensorflow/lib/python3.6/site-packages/h5py/__init__.py:36: FutureWarning: Conversion of the second argument of issubdtype from `float` to `np.floating` is deprecated. In future, it will be treated as `np.float64 == np.dtype(float).type`.\n",
      "  from ._conv import register_converters as _register_converters\n",
      "Using TensorFlow backend.\n"
     ]
    }
   ],
   "source": [
    "from __future__ import print_function\n",
    "\n",
    "import os\n",
    "import sys\n",
    "import numpy as np\n",
    "from keras.preprocessing.text import Tokenizer\n",
    "from keras.preprocessing.sequence import pad_sequences\n",
    "from keras.utils import to_categorical\n",
    "from keras.layers import Dense, Input, GlobalMaxPooling1D\n",
    "from keras.layers import Conv1D, MaxPooling1D, Embedding\n",
    "from keras.models import Model\n",
    "from gensim.models import KeyedVectors\n",
    "import pickle\n",
    "from sklearn.model_selection import GridSearchCV, train_test_split\n",
    "from keras.layers import GRU, Bidirectional, BatchNormalization, Reshape\n",
    "from keras.layers import Dense, Activation, Dropout, Input, Masking, TimeDistributed, LSTM, Conv1D\n",
    "from keras.optimizers import Adam\n",
    "\n",
    "\n",
    "\n",
    "MAX_SEQUENCE_LENGTH = 1000\n",
    "MAX_NUM_WORDS = 20000\n",
    "EMBEDDING_DIM = 200"
   ]
  },
  {
   "cell_type": "markdown",
   "metadata": {},
   "source": [
    "# 1 Vectorization"
   ]
  },
  {
   "cell_type": "code",
   "execution_count": 2,
   "metadata": {},
   "outputs": [],
   "source": [
    "embeddings_index = KeyedVectors.load_word2vec_format('PubMed-and-PMC-w2v.bin', binary=True)"
   ]
  },
  {
   "cell_type": "code",
   "execution_count": 3,
   "metadata": {},
   "outputs": [],
   "source": [
    "p_file = 'data_X'\n",
    "\n",
    "with open(p_file, 'rb') as fin:\n",
    "    data_X = pickle.load(fin)"
   ]
  },
  {
   "cell_type": "code",
   "execution_count": 4,
   "metadata": {},
   "outputs": [],
   "source": [
    "p_file = 'RCT_labels'\n",
    "\n",
    "with open(p_file, 'rb') as fin:\n",
    "    labels = pickle.load(fin)"
   ]
  },
  {
   "cell_type": "code",
   "execution_count": 5,
   "metadata": {
    "scrolled": true
   },
   "outputs": [],
   "source": [
    "# vectorize the text into a 2D integer tensor\n",
    "tokenizer = Tokenizer(num_words=MAX_NUM_WORDS)\n",
    "tokenizer.fit_on_texts(data_X)\n",
    "sequences = tokenizer.texts_to_sequences(data_X)"
   ]
  },
  {
   "cell_type": "code",
   "execution_count": 6,
   "metadata": {},
   "outputs": [
    {
     "name": "stdout",
     "output_type": "stream",
     "text": [
      "Found 1805160 unique tokens.\n",
      "Shape of data tensor: (19111, 1000)\n",
      "Shape of label tensor: (19111, 2)\n"
     ]
    }
   ],
   "source": [
    "word_index = tokenizer.word_index\n",
    "print('Found %s unique tokens.' % len(word_index))\n",
    "\n",
    "data = pad_sequences(sequences, maxlen=MAX_SEQUENCE_LENGTH)\n",
    "\n",
    "labels = to_categorical(np.asarray(labels))\n",
    "print('Shape of data tensor:', data.shape)\n",
    "print('Shape of label tensor:', labels.shape)"
   ]
  },
  {
   "cell_type": "code",
   "execution_count": 7,
   "metadata": {},
   "outputs": [],
   "source": [
    "X_train, X_test, Y_train, Y_test = train_test_split(data, labels, test_size=0.25)"
   ]
  },
  {
   "cell_type": "code",
   "execution_count": 8,
   "metadata": {},
   "outputs": [
    {
     "name": "stdout",
     "output_type": "stream",
     "text": [
      "Preparing embedding matrix.\n"
     ]
    }
   ],
   "source": [
    "print('Preparing embedding matrix.')\n",
    "\n",
    "# prepare embedding matrix\n",
    "num_words = min(MAX_NUM_WORDS, len(word_index) + 1)\n",
    "embedding_matrix = np.zeros((num_words, EMBEDDING_DIM))\n",
    "for word, i in word_index.items():\n",
    "    if i >= MAX_NUM_WORDS:\n",
    "        continue\n",
    "    try:\n",
    "        embedding_vector = embeddings_index[word]\n",
    "    except KeyError:\n",
    "        continue\n",
    "    if embedding_vector is not None:\n",
    "        # words not found in embedding index will be all-zeros.\n",
    "        embedding_matrix[i] = embedding_vector\n",
    "\n",
    "# load pre-trained word embeddings into an Embedding layer\n",
    "# note that we set trainable = False so as to keep the embeddings fixed\n",
    "embedding_layer = Embedding(num_words,\n",
    "                            EMBEDDING_DIM,\n",
    "                            weights=[embedding_matrix],\n",
    "                            input_length=MAX_SEQUENCE_LENGTH,\n",
    "                            trainable=False)\n"
   ]
  },
  {
   "cell_type": "markdown",
   "metadata": {},
   "source": [
    "# 2 LSTM"
   ]
  },
  {
   "cell_type": "code",
   "execution_count": 9,
   "metadata": {},
   "outputs": [],
   "source": [
    "def model():\n",
    "        \n",
    "    sequence_input = Input(shape=(MAX_SEQUENCE_LENGTH,), dtype='int32')\n",
    "    embedded_sequences = embedding_layer(sequence_input)\n",
    "    \n",
    "    # Cov layer\n",
    "    X = Conv1D(filters=768, kernel_size=15, strides=4)(embedded_sequences)                                 # CONV1D\n",
    "    X = BatchNormalization()(X)                                 # Batch normalization\n",
    "    X = Activation('relu')(X)                                 # ReLu activation\n",
    "    X = Dropout(0.6)(X)                                 # dropout\n",
    "    \n",
    "    # LSTM layer 1\n",
    "    X = LSTM(512, return_sequences=True)(X)\n",
    "    X = Dropout(0.5)(X)\n",
    "    \n",
    "    # LSTM layer 2 \n",
    "    X = LSTM(512)(X)\n",
    "    X = Dropout(0.5)(X)\n",
    "    \n",
    "    X = Dense(2)(X)  \n",
    "    # Softmax layer\n",
    "    X = Activation('softmax')(X)\n",
    "    \n",
    "    # Create Model instance\n",
    "    model = Model(inputs = sequence_input, outputs = X)\n",
    "        \n",
    "    return model"
   ]
  },
  {
   "cell_type": "code",
   "execution_count": 10,
   "metadata": {},
   "outputs": [],
   "source": [
    "model = model()"
   ]
  },
  {
   "cell_type": "code",
   "execution_count": 11,
   "metadata": {},
   "outputs": [
    {
     "name": "stdout",
     "output_type": "stream",
     "text": [
      "_________________________________________________________________\n",
      "Layer (type)                 Output Shape              Param #   \n",
      "=================================================================\n",
      "input_1 (InputLayer)         (None, 1000)              0         \n",
      "_________________________________________________________________\n",
      "embedding_1 (Embedding)      (None, 1000, 200)         4000000   \n",
      "_________________________________________________________________\n",
      "conv1d_1 (Conv1D)            (None, 247, 768)          2304768   \n",
      "_________________________________________________________________\n",
      "batch_normalization_1 (Batch (None, 247, 768)          3072      \n",
      "_________________________________________________________________\n",
      "activation_1 (Activation)    (None, 247, 768)          0         \n",
      "_________________________________________________________________\n",
      "dropout_1 (Dropout)          (None, 247, 768)          0         \n",
      "_________________________________________________________________\n",
      "lstm_1 (LSTM)                (None, 247, 512)          2623488   \n",
      "_________________________________________________________________\n",
      "dropout_2 (Dropout)          (None, 247, 512)          0         \n",
      "_________________________________________________________________\n",
      "lstm_2 (LSTM)                (None, 512)               2099200   \n",
      "_________________________________________________________________\n",
      "dropout_3 (Dropout)          (None, 512)               0         \n",
      "_________________________________________________________________\n",
      "dense_1 (Dense)              (None, 2)                 1026      \n",
      "_________________________________________________________________\n",
      "activation_2 (Activation)    (None, 2)                 0         \n",
      "=================================================================\n",
      "Total params: 11,031,554\n",
      "Trainable params: 7,030,018\n",
      "Non-trainable params: 4,001,536\n",
      "_________________________________________________________________\n"
     ]
    }
   ],
   "source": [
    "model.summary()"
   ]
  },
  {
   "cell_type": "code",
   "execution_count": 12,
   "metadata": {},
   "outputs": [],
   "source": [
    "opt = Adam(lr=0.0003, beta_1=0.9, beta_2=0.999, decay=0.01)\n",
    "model.compile(loss='binary_crossentropy', optimizer=opt, metrics=[\"accuracy\"])"
   ]
  },
  {
   "cell_type": "code",
   "execution_count": 13,
   "metadata": {},
   "outputs": [
    {
     "name": "stdout",
     "output_type": "stream",
     "text": [
      "Epoch 1/50\n",
      "14333/14333 [==============================] - 290s 20ms/step - loss: 0.4215 - acc: 0.8171\n",
      "Epoch 2/50\n",
      "14333/14333 [==============================] - 286s 20ms/step - loss: 0.3669 - acc: 0.8510\n",
      "Epoch 3/50\n",
      "14333/14333 [==============================] - 285s 20ms/step - loss: 0.3493 - acc: 0.8589\n",
      "Epoch 4/50\n",
      "14333/14333 [==============================] - 284s 20ms/step - loss: 0.3331 - acc: 0.8635\n",
      "Epoch 5/50\n",
      "14333/14333 [==============================] - 285s 20ms/step - loss: 0.3162 - acc: 0.8693\n",
      "Epoch 6/50\n",
      "14333/14333 [==============================] - 284s 20ms/step - loss: 0.3027 - acc: 0.8762\n",
      "Epoch 7/50\n",
      "14333/14333 [==============================] - 285s 20ms/step - loss: 0.2834 - acc: 0.8822\n",
      "Epoch 8/50\n",
      "14333/14333 [==============================] - 285s 20ms/step - loss: 0.2719 - acc: 0.8892\n",
      "Epoch 9/50\n",
      "14333/14333 [==============================] - 285s 20ms/step - loss: 0.2497 - acc: 0.8986\n",
      "Epoch 10/50\n",
      "14333/14333 [==============================] - 284s 20ms/step - loss: 0.2373 - acc: 0.9034\n",
      "Epoch 11/50\n",
      "14333/14333 [==============================] - 285s 20ms/step - loss: 0.2195 - acc: 0.9098\n",
      "Epoch 12/50\n",
      "14333/14333 [==============================] - 285s 20ms/step - loss: 0.2100 - acc: 0.9159\n",
      "Epoch 13/50\n",
      "14333/14333 [==============================] - 286s 20ms/step - loss: 0.1909 - acc: 0.9253\n",
      "Epoch 14/50\n",
      "14333/14333 [==============================] - 286s 20ms/step - loss: 0.1838 - acc: 0.9283\n",
      "Epoch 15/50\n",
      "14333/14333 [==============================] - 284s 20ms/step - loss: 0.1754 - acc: 0.9289\n",
      "Epoch 16/50\n",
      "14333/14333 [==============================] - 284s 20ms/step - loss: 0.1695 - acc: 0.9330\n",
      "Epoch 17/50\n",
      "14333/14333 [==============================] - 283s 20ms/step - loss: 0.1562 - acc: 0.9374\n",
      "Epoch 18/50\n",
      "14333/14333 [==============================] - 284s 20ms/step - loss: 0.1494 - acc: 0.9403\n",
      "Epoch 19/50\n",
      "14333/14333 [==============================] - 284s 20ms/step - loss: 0.1432 - acc: 0.9445\n",
      "Epoch 20/50\n",
      "14333/14333 [==============================] - 284s 20ms/step - loss: 0.1389 - acc: 0.9470\n",
      "Epoch 21/50\n",
      "14333/14333 [==============================] - 283s 20ms/step - loss: 0.1372 - acc: 0.9455\n",
      "Epoch 22/50\n",
      "14333/14333 [==============================] - 283s 20ms/step - loss: 0.1335 - acc: 0.9495\n",
      "Epoch 23/50\n",
      "14333/14333 [==============================] - 282s 20ms/step - loss: 0.1246 - acc: 0.9524\n",
      "Epoch 24/50\n",
      "14333/14333 [==============================] - 284s 20ms/step - loss: 0.1213 - acc: 0.9510\n",
      "Epoch 25/50\n",
      "14333/14333 [==============================] - 283s 20ms/step - loss: 0.1162 - acc: 0.9542\n",
      "Epoch 26/50\n",
      "14333/14333 [==============================] - 284s 20ms/step - loss: 0.1139 - acc: 0.9555\n",
      "Epoch 27/50\n",
      "14333/14333 [==============================] - 284s 20ms/step - loss: 0.1071 - acc: 0.9586\n",
      "Epoch 28/50\n",
      "14333/14333 [==============================] - 284s 20ms/step - loss: 0.1041 - acc: 0.9569\n",
      "Epoch 29/50\n",
      "14333/14333 [==============================] - 284s 20ms/step - loss: 0.1018 - acc: 0.9609\n",
      "Epoch 30/50\n",
      "14333/14333 [==============================] - 283s 20ms/step - loss: 0.1000 - acc: 0.9604\n",
      "Epoch 31/50\n",
      "14333/14333 [==============================] - 284s 20ms/step - loss: 0.1016 - acc: 0.9616\n",
      "Epoch 32/50\n",
      "14333/14333 [==============================] - 283s 20ms/step - loss: 0.1028 - acc: 0.9611\n",
      "Epoch 33/50\n",
      "14333/14333 [==============================] - 284s 20ms/step - loss: 0.0972 - acc: 0.9618\n",
      "Epoch 34/50\n",
      "14333/14333 [==============================] - 284s 20ms/step - loss: 0.0913 - acc: 0.9653\n",
      "Epoch 35/50\n",
      "14333/14333 [==============================] - 284s 20ms/step - loss: 0.0906 - acc: 0.9632\n",
      "Epoch 36/50\n",
      "14333/14333 [==============================] - 284s 20ms/step - loss: 0.0918 - acc: 0.9634\n",
      "Epoch 37/50\n",
      "14333/14333 [==============================] - 285s 20ms/step - loss: 0.0853 - acc: 0.9673\n",
      "Epoch 38/50\n",
      "14333/14333 [==============================] - 283s 20ms/step - loss: 0.0888 - acc: 0.9662\n",
      "Epoch 39/50\n",
      "14333/14333 [==============================] - 283s 20ms/step - loss: 0.0826 - acc: 0.9690\n",
      "Epoch 40/50\n",
      "14333/14333 [==============================] - 283s 20ms/step - loss: 0.0815 - acc: 0.9678\n",
      "Epoch 41/50\n",
      "14333/14333 [==============================] - 283s 20ms/step - loss: 0.0772 - acc: 0.9718\n",
      "Epoch 42/50\n",
      "14333/14333 [==============================] - 283s 20ms/step - loss: 0.0758 - acc: 0.9711\n",
      "Epoch 43/50\n",
      "14333/14333 [==============================] - 283s 20ms/step - loss: 0.0790 - acc: 0.9708\n",
      "Epoch 44/50\n",
      "14333/14333 [==============================] - 283s 20ms/step - loss: 0.0786 - acc: 0.9711\n",
      "Epoch 45/50\n",
      "14333/14333 [==============================] - 284s 20ms/step - loss: 0.0756 - acc: 0.9712\n",
      "Epoch 46/50\n",
      "14333/14333 [==============================] - 284s 20ms/step - loss: 0.0767 - acc: 0.9721\n",
      "Epoch 47/50\n",
      "14333/14333 [==============================] - 284s 20ms/step - loss: 0.0770 - acc: 0.9708\n",
      "Epoch 48/50\n",
      "14333/14333 [==============================] - 283s 20ms/step - loss: 0.0694 - acc: 0.9752\n",
      "Epoch 49/50\n",
      "14333/14333 [==============================] - 284s 20ms/step - loss: 0.0747 - acc: 0.9709\n",
      "Epoch 50/50\n",
      "14333/14333 [==============================] - 283s 20ms/step - loss: 0.0736 - acc: 0.9716\n"
     ]
    },
    {
     "data": {
      "text/plain": [
       "<keras.callbacks.History at 0x7feb400d2828>"
      ]
     },
     "execution_count": 13,
     "metadata": {},
     "output_type": "execute_result"
    }
   ],
   "source": [
    "model.fit(X_train, Y_train, batch_size = 64, epochs=50)"
   ]
  },
  {
   "cell_type": "code",
   "execution_count": 14,
   "metadata": {},
   "outputs": [],
   "source": [
    "model_json = model.to_json()\n",
    "with open (\"LSTMModel.json\", \"w\") as json_file:\n",
    "    json_file.write(model_json)\n",
    "model.save_weights(\"LSTMModel.h5\")"
   ]
  },
  {
   "cell_type": "code",
   "execution_count": 15,
   "metadata": {},
   "outputs": [
    {
     "name": "stdout",
     "output_type": "stream",
     "text": [
      "4778/4778 [==============================] - 39s 8ms/step\n",
      "Validation set accuracy =  0.8302637086397636\n"
     ]
    }
   ],
   "source": [
    "loss, acc = model.evaluate(X_test, Y_test)\n",
    "print(\"Validation set accuracy = \", acc)"
   ]
  }
 ],
 "metadata": {
  "kernelspec": {
   "display_name": "TensorFlow",
   "language": "python",
   "name": "tensorflow"
  },
  "language_info": {
   "codemirror_mode": {
    "name": "ipython",
    "version": 3
   },
   "file_extension": ".py",
   "mimetype": "text/x-python",
   "name": "python",
   "nbconvert_exporter": "python",
   "pygments_lexer": "ipython3",
   "version": "3.6.5"
  }
 },
 "nbformat": 4,
 "nbformat_minor": 2
}

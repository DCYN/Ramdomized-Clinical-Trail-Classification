{
 "cells": [
  {
   "cell_type": "markdown",
   "metadata": {},
   "source": [
    "# Summary\n",
    "\n",
    "Thanks for Dave to share the great PMC vectorization file: http://evexdb.org/pmresources/vec-space-models/\n",
    "\n",
    "The vectorization part is developed from the tutorials by Francois Chollet. A deeper cnn is developed from his network.\n",
    "\n",
    "https://blog.keras.io/using-pre-trained-word-embeddings-in-a-keras-model.html\n",
    "\n"
   ]
  },
  {
   "cell_type": "code",
   "execution_count": 1,
   "metadata": {},
   "outputs": [
    {
     "name": "stderr",
     "output_type": "stream",
     "text": [
      "/home/dc/anaconda3/envs/tensorflow/lib/python3.6/site-packages/h5py/__init__.py:36: FutureWarning: Conversion of the second argument of issubdtype from `float` to `np.floating` is deprecated. In future, it will be treated as `np.float64 == np.dtype(float).type`.\n",
      "  from ._conv import register_converters as _register_converters\n",
      "Using TensorFlow backend.\n"
     ]
    }
   ],
   "source": [
    "from __future__ import print_function\n",
    "\n",
    "import os\n",
    "import sys\n",
    "import numpy as np\n",
    "from keras.preprocessing.text import Tokenizer\n",
    "from keras.preprocessing.sequence import pad_sequences\n",
    "from keras.utils import to_categorical\n",
    "from keras.layers import Dense, Input, GlobalMaxPooling1D\n",
    "from keras.layers import Conv1D, MaxPooling1D, Embedding\n",
    "from keras.models import Model\n",
    "from gensim.models import KeyedVectors\n",
    "import pickle\n",
    "from sklearn.model_selection import GridSearchCV, train_test_split\n",
    "from keras.layers import GRU, Bidirectional, BatchNormalization, Reshape\n",
    "from keras.layers import Dense, Activation, Dropout, Input, Masking, TimeDistributed, LSTM, Conv1D\n",
    "from keras.optimizers import Adam\n",
    "\n",
    "\n",
    "\n",
    "MAX_SEQUENCE_LENGTH = 1000\n",
    "MAX_NUM_WORDS = 20000\n",
    "EMBEDDING_DIM = 200"
   ]
  },
  {
   "cell_type": "markdown",
   "metadata": {},
   "source": [
    "# 1 Vectorization"
   ]
  },
  {
   "cell_type": "code",
   "execution_count": 2,
   "metadata": {},
   "outputs": [],
   "source": [
    "embeddings_index = KeyedVectors.load_word2vec_format('PubMed-and-PMC-w2v.bin', binary=True)"
   ]
  },
  {
   "cell_type": "code",
   "execution_count": 3,
   "metadata": {},
   "outputs": [],
   "source": [
    "p_file = 'data_X'\n",
    "\n",
    "with open(p_file, 'rb') as fin:\n",
    "    data_X = pickle.load(fin)"
   ]
  },
  {
   "cell_type": "code",
   "execution_count": 4,
   "metadata": {},
   "outputs": [],
   "source": [
    "p_file = 'RCT_labels'\n",
    "\n",
    "with open(p_file, 'rb') as fin:\n",
    "    labels = pickle.load(fin)"
   ]
  },
  {
   "cell_type": "code",
   "execution_count": 5,
   "metadata": {
    "scrolled": true
   },
   "outputs": [],
   "source": [
    "# vectorize the text into a 2D integer tensor\n",
    "tokenizer = Tokenizer(num_words=MAX_NUM_WORDS)\n",
    "tokenizer.fit_on_texts(data_X)\n",
    "sequences = tokenizer.texts_to_sequences(data_X)"
   ]
  },
  {
   "cell_type": "code",
   "execution_count": 6,
   "metadata": {},
   "outputs": [
    {
     "name": "stdout",
     "output_type": "stream",
     "text": [
      "Found 1805160 unique tokens.\n",
      "Shape of data tensor: (19111, 1000)\n",
      "Shape of label tensor: (19111, 2)\n"
     ]
    }
   ],
   "source": [
    "word_index = tokenizer.word_index\n",
    "print('Found %s unique tokens.' % len(word_index))\n",
    "\n",
    "data = pad_sequences(sequences, maxlen=MAX_SEQUENCE_LENGTH)\n",
    "\n",
    "labels = to_categorical(np.asarray(labels))\n",
    "print('Shape of data tensor:', data.shape)\n",
    "print('Shape of label tensor:', labels.shape)"
   ]
  },
  {
   "cell_type": "code",
   "execution_count": 7,
   "metadata": {},
   "outputs": [],
   "source": [
    "X_train, X_test, Y_train, Y_test = train_test_split(data, labels, test_size=0.25)"
   ]
  },
  {
   "cell_type": "code",
   "execution_count": 8,
   "metadata": {},
   "outputs": [
    {
     "name": "stdout",
     "output_type": "stream",
     "text": [
      "Preparing embedding matrix.\n"
     ]
    }
   ],
   "source": [
    "print('Preparing embedding matrix.')\n",
    "\n",
    "# prepare embedding matrix\n",
    "num_words = min(MAX_NUM_WORDS, len(word_index) + 1)\n",
    "embedding_matrix = np.zeros((num_words, EMBEDDING_DIM))\n",
    "for word, i in word_index.items():\n",
    "    if i >= MAX_NUM_WORDS:\n",
    "        continue\n",
    "    try:\n",
    "        embedding_vector = embeddings_index[word]\n",
    "    except KeyError:\n",
    "        continue\n",
    "    if embedding_vector is not None:\n",
    "        # words not found in embedding index will be all-zeros.\n",
    "        embedding_matrix[i] = embedding_vector\n",
    "\n",
    "# load pre-trained word embeddings into an Embedding layer\n",
    "# note that we set trainable = False so as to keep the embeddings fixed\n",
    "embedding_layer = Embedding(num_words,\n",
    "                            EMBEDDING_DIM,\n",
    "                            weights=[embedding_matrix],\n",
    "                            input_length=MAX_SEQUENCE_LENGTH,\n",
    "                            trainable=False)\n"
   ]
  },
  {
   "cell_type": "markdown",
   "metadata": {},
   "source": [
    "# 2 1D CNN"
   ]
  },
  {
   "cell_type": "code",
   "execution_count": 14,
   "metadata": {},
   "outputs": [
    {
     "name": "stdout",
     "output_type": "stream",
     "text": [
      "Training model.\n"
     ]
    }
   ],
   "source": [
    "print('Training model.')\n",
    "\n",
    "# train a 1D convnet with global maxpooling\n",
    "sequence_input = Input(shape=(MAX_SEQUENCE_LENGTH,), dtype='int32')\n",
    "embedded_sequences = embedding_layer(sequence_input)\n",
    "x = Conv1D(128, 2, activation='relu')(embedded_sequences)\n",
    "x = MaxPooling1D(2)(x)\n",
    "x = Conv1D(128, 3, activation='relu')(x)\n",
    "x = MaxPooling1D(3)(x)\n",
    "x = Conv1D(128, 5, activation='relu')(x)\n",
    "x = MaxPooling1D(5)(x)\n",
    "x = Conv1D(128, 8, activation='relu')(x)\n",
    "x = GlobalMaxPooling1D()(x)\n",
    "x = Dense(128, activation='relu')(x)\n",
    "preds = Dense(2, activation='softmax')(x)\n",
    "\n",
    "model = Model(inputs = sequence_input, outputs = x)\n"
   ]
  },
  {
   "cell_type": "code",
   "execution_count": 15,
   "metadata": {},
   "outputs": [
    {
     "name": "stdout",
     "output_type": "stream",
     "text": [
      "_________________________________________________________________\n",
      "Layer (type)                 Output Shape              Param #   \n",
      "=================================================================\n",
      "input_5 (InputLayer)         (None, 1000)              0         \n",
      "_________________________________________________________________\n",
      "embedding_1 (Embedding)      (None, 1000, 200)         4000000   \n",
      "_________________________________________________________________\n",
      "conv1d_18 (Conv1D)           (None, 999, 128)          51328     \n",
      "_________________________________________________________________\n",
      "max_pooling1d_14 (MaxPooling (None, 499, 128)          0         \n",
      "_________________________________________________________________\n",
      "conv1d_19 (Conv1D)           (None, 497, 128)          49280     \n",
      "_________________________________________________________________\n",
      "max_pooling1d_15 (MaxPooling (None, 165, 128)          0         \n",
      "_________________________________________________________________\n",
      "conv1d_20 (Conv1D)           (None, 161, 128)          82048     \n",
      "_________________________________________________________________\n",
      "max_pooling1d_16 (MaxPooling (None, 32, 128)           0         \n",
      "_________________________________________________________________\n",
      "conv1d_21 (Conv1D)           (None, 25, 128)           131200    \n",
      "_________________________________________________________________\n",
      "global_max_pooling1d_4 (Glob (None, 128)               0         \n",
      "_________________________________________________________________\n",
      "dense_6 (Dense)              (None, 128)               16512     \n",
      "=================================================================\n",
      "Total params: 4,330,368\n",
      "Trainable params: 330,368\n",
      "Non-trainable params: 4,000,000\n",
      "_________________________________________________________________\n"
     ]
    }
   ],
   "source": [
    "model.summary()"
   ]
  },
  {
   "cell_type": "code",
   "execution_count": 17,
   "metadata": {},
   "outputs": [
    {
     "name": "stdout",
     "output_type": "stream",
     "text": [
      "Train on 14333 samples, validate on 4778 samples\n",
      "Epoch 1/50\n",
      "14333/14333 [==============================] - 9s 661us/step - loss: 0.4782 - acc: 0.7764 - val_loss: 0.3977 - val_acc: 0.8368\n",
      "Epoch 2/50\n",
      "14333/14333 [==============================] - 6s 443us/step - loss: 0.3903 - acc: 0.8364 - val_loss: 0.3698 - val_acc: 0.8453\n",
      "Epoch 3/50\n",
      "14333/14333 [==============================] - 6s 446us/step - loss: 0.3785 - acc: 0.8448 - val_loss: 0.3696 - val_acc: 0.8478780 - a\n",
      "Epoch 4/50\n",
      "14333/14333 [==============================] - 6s 452us/step - loss: 0.3696 - acc: 0.8473 - val_loss: 0.6549 - val_acc: 0.7522\n",
      "Epoch 5/50\n",
      "14333/14333 [==============================] - 6s 446us/step - loss: 0.3599 - acc: 0.8522 - val_loss: 0.3881 - val_acc: 0.8439\n",
      "Epoch 6/50\n",
      "14333/14333 [==============================] - 6s 443us/step - loss: 0.3483 - acc: 0.8561 - val_loss: 0.3995 - val_acc: 0.8453\n",
      "Epoch 7/50\n",
      "14333/14333 [==============================] - 6s 447us/step - loss: 0.3387 - acc: 0.8611 - val_loss: 0.3660 - val_acc: 0.8487\n",
      "Epoch 8/50\n",
      "14333/14333 [==============================] - 6s 445us/step - loss: 0.3214 - acc: 0.8679 - val_loss: 0.4445 - val_acc: 0.8357\n",
      "Epoch 9/50\n",
      "14333/14333 [==============================] - 6s 445us/step - loss: 0.3045 - acc: 0.8759 - val_loss: 0.4028 - val_acc: 0.8476\n",
      "Epoch 10/50\n",
      "14333/14333 [==============================] - 6s 449us/step - loss: 0.2845 - acc: 0.8840 - val_loss: 0.4314 - val_acc: 0.8321\n",
      "Epoch 11/50\n",
      "14333/14333 [==============================] - 6s 449us/step - loss: 0.2614 - acc: 0.8935 - val_loss: 0.4798 - val_acc: 0.8357\n",
      "Epoch 12/50\n",
      "14333/14333 [==============================] - 6s 446us/step - loss: 0.2343 - acc: 0.9073 - val_loss: 0.4497 - val_acc: 0.8290\n",
      "Epoch 13/50\n",
      "14333/14333 [==============================] - 6s 448us/step - loss: 0.2071 - acc: 0.9211 - val_loss: 0.5686 - val_acc: 0.8064\n",
      "Epoch 14/50\n",
      "14333/14333 [==============================] - 6s 449us/step - loss: 0.1788 - acc: 0.9309 - val_loss: 0.5407 - val_acc: 0.8229\n",
      "Epoch 15/50\n",
      "14333/14333 [==============================] - 6s 451us/step - loss: 0.1716 - acc: 0.9357 - val_loss: 0.6272 - val_acc: 0.8384\n",
      "Epoch 16/50\n",
      "14333/14333 [==============================] - 6s 449us/step - loss: 0.1349 - acc: 0.9510 - val_loss: 0.7295 - val_acc: 0.8219\n",
      "Epoch 17/50\n",
      "14333/14333 [==============================] - 6s 448us/step - loss: 0.1140 - acc: 0.9570 - val_loss: 0.9210 - val_acc: 0.8257\n",
      "Epoch 18/50\n",
      "14333/14333 [==============================] - 6s 447us/step - loss: 0.1114 - acc: 0.9594 - val_loss: 0.7677 - val_acc: 0.8070\n",
      "Epoch 19/50\n",
      "14333/14333 [==============================] - 6s 448us/step - loss: 0.1033 - acc: 0.9639 - val_loss: 0.7007 - val_acc: 0.8229\n",
      "Epoch 20/50\n",
      "14333/14333 [==============================] - 6s 448us/step - loss: 0.0786 - acc: 0.9743 - val_loss: 0.8500 - val_acc: 0.8286\n",
      "Epoch 21/50\n",
      "14333/14333 [==============================] - 6s 450us/step - loss: 0.0727 - acc: 0.9755 - val_loss: 1.2905 - val_acc: 0.8196\n",
      "Epoch 22/50\n",
      "14333/14333 [==============================] - 6s 451us/step - loss: 0.0832 - acc: 0.9743 - val_loss: 0.9309 - val_acc: 0.8248\n",
      "Epoch 23/50\n",
      "14333/14333 [==============================] - 6s 450us/step - loss: 0.0608 - acc: 0.9813 - val_loss: 1.0018 - val_acc: 0.8307\n",
      "Epoch 24/50\n",
      "14333/14333 [==============================] - 6s 452us/step - loss: 0.0659 - acc: 0.9798 - val_loss: 0.8761 - val_acc: 0.8190\n",
      "Epoch 25/50\n",
      "14333/14333 [==============================] - 6s 452us/step - loss: 0.0753 - acc: 0.9827 - val_loss: 0.9625 - val_acc: 0.8326\n",
      "Epoch 26/50\n",
      "14333/14333 [==============================] - 6s 452us/step - loss: 0.0587 - acc: 0.9835 - val_loss: 1.1205 - val_acc: 0.8202\n",
      "Epoch 27/50\n",
      "14333/14333 [==============================] - 6s 451us/step - loss: 0.0405 - acc: 0.9864 - val_loss: 1.2485 - val_acc: 0.8204\n",
      "Epoch 28/50\n",
      "14333/14333 [==============================] - 6s 453us/step - loss: 0.0553 - acc: 0.9847 - val_loss: 2.0921 - val_acc: 0.7997\n",
      "Epoch 29/50\n",
      "14333/14333 [==============================] - 6s 451us/step - loss: 0.0521 - acc: 0.9849 - val_loss: 1.1289 - val_acc: 0.8286\n",
      "Epoch 30/50\n",
      "14333/14333 [==============================] - 6s 452us/step - loss: 0.0398 - acc: 0.9878 - val_loss: 1.2127 - val_acc: 0.8198\n",
      "Epoch 31/50\n",
      "14333/14333 [==============================] - 7s 454us/step - loss: 0.0551 - acc: 0.9848 - val_loss: 1.2453 - val_acc: 0.7811\n",
      "Epoch 32/50\n",
      "14333/14333 [==============================] - 7s 454us/step - loss: 0.0386 - acc: 0.9877 - val_loss: 1.3964 - val_acc: 0.8288\n",
      "Epoch 33/50\n",
      "14333/14333 [==============================] - 6s 451us/step - loss: 0.0397 - acc: 0.9870 - val_loss: 1.1490 - val_acc: 0.8137\n",
      "Epoch 34/50\n",
      "14333/14333 [==============================] - 6s 453us/step - loss: 0.0413 - acc: 0.9893 - val_loss: 1.1674 - val_acc: 0.8286\n",
      "Epoch 35/50\n",
      "14333/14333 [==============================] - 6s 452us/step - loss: 0.0527 - acc: 0.9844 - val_loss: 1.1608 - val_acc: 0.8165\n",
      "Epoch 36/50\n",
      "14333/14333 [==============================] - 6s 453us/step - loss: 0.0424 - acc: 0.9883 - val_loss: 1.1055 - val_acc: 0.8215\n",
      "Epoch 37/50\n",
      "14333/14333 [==============================] - 6s 453us/step - loss: 0.0347 - acc: 0.9912 - val_loss: 1.1556 - val_acc: 0.8240\n",
      "Epoch 38/50\n",
      "14333/14333 [==============================] - 7s 456us/step - loss: 0.0547 - acc: 0.9877 - val_loss: 1.1944 - val_acc: 0.8309\n",
      "Epoch 39/50\n",
      "14333/14333 [==============================] - 6s 450us/step - loss: 0.0285 - acc: 0.9918 - val_loss: 1.2017 - val_acc: 0.8219\n",
      "Epoch 40/50\n",
      "14333/14333 [==============================] - 6s 453us/step - loss: 0.0554 - acc: 0.9856 - val_loss: 1.0987 - val_acc: 0.8259\n",
      "Epoch 41/50\n",
      "14333/14333 [==============================] - 6s 450us/step - loss: 0.0187 - acc: 0.9941 - val_loss: 1.3569 - val_acc: 0.8181\n",
      "Epoch 42/50\n",
      "14333/14333 [==============================] - 6s 449us/step - loss: 0.0301 - acc: 0.9912 - val_loss: 1.3225 - val_acc: 0.8265\n",
      "Epoch 43/50\n",
      "14333/14333 [==============================] - 7s 454us/step - loss: 0.0362 - acc: 0.9898 - val_loss: 1.1909 - val_acc: 0.8077\n",
      "Epoch 44/50\n",
      "14333/14333 [==============================] - 6s 452us/step - loss: 0.0367 - acc: 0.9898 - val_loss: 1.1212 - val_acc: 0.8213\n",
      "Epoch 45/50\n",
      "14333/14333 [==============================] - 6s 453us/step - loss: 0.0270 - acc: 0.9933 - val_loss: 1.3626 - val_acc: 0.7344\n",
      "Epoch 46/50\n",
      "14333/14333 [==============================] - 7s 456us/step - loss: 0.0251 - acc: 0.9926 - val_loss: 1.3529 - val_acc: 0.8231\n",
      "Epoch 47/50\n",
      "14333/14333 [==============================] - 6s 453us/step - loss: 0.0351 - acc: 0.9914 - val_loss: 1.4769 - val_acc: 0.7974\n",
      "Epoch 48/50\n",
      "14333/14333 [==============================] - 6s 452us/step - loss: 0.0397 - acc: 0.9905 - val_loss: 2.1910 - val_acc: 0.7888\n",
      "Epoch 49/50\n",
      "14333/14333 [==============================] - 6s 452us/step - loss: 0.0340 - acc: 0.9918 - val_loss: 1.2619 - val_acc: 0.8206\n",
      "Epoch 50/50\n",
      "14333/14333 [==============================] - 7s 467us/step - loss: 0.0208 - acc: 0.9946 - val_loss: 1.5713 - val_acc: 0.8336\n"
     ]
    },
    {
     "data": {
      "text/plain": [
       "<keras.callbacks.History at 0x7f3f28c6a2e8>"
      ]
     },
     "execution_count": 17,
     "metadata": {},
     "output_type": "execute_result"
    }
   ],
   "source": [
    "model = Model(sequence_input, preds)\n",
    "model.compile(loss='categorical_crossentropy',\n",
    "              optimizer='rmsprop',\n",
    "              metrics=['acc'])\n",
    "\n",
    "model.fit(X_train, Y_train,\n",
    "          batch_size=128,\n",
    "          epochs=50,\n",
    "          validation_data=(X_test, Y_test))"
   ]
  },
  {
   "cell_type": "code",
   "execution_count": 18,
   "metadata": {},
   "outputs": [],
   "source": [
    "model_json = model.to_json()\n",
    "with open (\"1dCNNModel.json\", \"w\") as json_file:\n",
    "    json_file.write(model_json)\n",
    "model.save_weights(\"1dCNNModel.h5\")"
   ]
  },
  {
   "cell_type": "code",
   "execution_count": 19,
   "metadata": {},
   "outputs": [
    {
     "name": "stdout",
     "output_type": "stream",
     "text": [
      "4778/4778 [==============================] - 1s 184us/step\n",
      "Validation set accuracy =  0.8336123900714905\n"
     ]
    }
   ],
   "source": [
    "loss, acc = model.evaluate(X_test, Y_test)\n",
    "print(\"Validation set accuracy = \", acc)"
   ]
  }
 ],
 "metadata": {
  "kernelspec": {
   "display_name": "TensorFlow",
   "language": "python",
   "name": "tensorflow"
  },
  "language_info": {
   "codemirror_mode": {
    "name": "ipython",
    "version": 3
   },
   "file_extension": ".py",
   "mimetype": "text/x-python",
   "name": "python",
   "nbconvert_exporter": "python",
   "pygments_lexer": "ipython3",
   "version": "3.6.4"
  }
 },
 "nbformat": 4,
 "nbformat_minor": 2
}

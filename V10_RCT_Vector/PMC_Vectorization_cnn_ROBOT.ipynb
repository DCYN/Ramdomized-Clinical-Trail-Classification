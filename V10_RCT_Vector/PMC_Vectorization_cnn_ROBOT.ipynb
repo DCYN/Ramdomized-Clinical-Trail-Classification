{
 "cells": [
  {
   "cell_type": "markdown",
   "metadata": {},
   "source": [
    "# Summary\n",
    "\n",
    "Apply Iain Marshall's CNN on our dataset. The CNN structure is defined in the https://onlinelibrary.wiley.com/doi/abs/10.1002/jrsm.1287\n",
    "\n",
    "Pretrained embedding layer loaded from Iain.\n",
    "\n",
    "Hyper parameters used:\n",
    "\n",
    "Dropout: 0.160\n",
    "Filter sizes: 1, 3, 5\n",
    "Number of additional hidden layers: 0\n",
    "Number of filters: 150\n",
    "Maximum token features: 20000 rather than 12500\n",
    "Number of epochs: rather than 20\n",
    "Keep Normalization and drop for each Convolution layer.\n",
    "\n",
    "Result: Precision 82%, recall 82% F1 81%"
   ]
  },
  {
   "cell_type": "code",
   "execution_count": 1,
   "metadata": {},
   "outputs": [
    {
     "name": "stderr",
     "output_type": "stream",
     "text": [
      "/home/dc/anaconda3/envs/tensorflow/lib/python3.6/site-packages/h5py/__init__.py:36: FutureWarning: Conversion of the second argument of issubdtype from `float` to `np.floating` is deprecated. In future, it will be treated as `np.float64 == np.dtype(float).type`.\n",
      "  from ._conv import register_converters as _register_converters\n",
      "Using TensorFlow backend.\n"
     ]
    }
   ],
   "source": [
    "from __future__ import print_function\n",
    "\n",
    "import os\n",
    "import sys\n",
    "import numpy as np\n",
    "from keras.preprocessing.text import Tokenizer\n",
    "from keras.preprocessing.sequence import pad_sequences\n",
    "from keras.utils import to_categorical\n",
    "from keras.layers import Dense, Input, GlobalMaxPooling1D\n",
    "from keras.layers import Conv1D, MaxPooling1D, Embedding\n",
    "from keras.models import Model\n",
    "from gensim.models import KeyedVectors\n",
    "import pickle\n",
    "from sklearn.model_selection import GridSearchCV, train_test_split\n",
    "from keras.layers import GRU, Bidirectional, BatchNormalization, Reshape\n",
    "from keras.layers import Dense, Activation, Dropout, Input, Masking, TimeDistributed, LSTM, Conv1D\n",
    "from keras.optimizers import Adam\n",
    "\n",
    "\n",
    "\n",
    "MAX_SEQUENCE_LENGTH = 1000\n",
    "MAX_NUM_WORDS = 20000\n",
    "EMBEDDING_DIM = 200"
   ]
  },
  {
   "cell_type": "markdown",
   "metadata": {},
   "source": [
    "# 1 Vectorization"
   ]
  },
  {
   "cell_type": "code",
   "execution_count": 2,
   "metadata": {},
   "outputs": [],
   "source": [
    "p_file = 'data_X'\n",
    "\n",
    "with open(p_file, 'rb') as fin:\n",
    "    data_X = pickle.load(fin)"
   ]
  },
  {
   "cell_type": "code",
   "execution_count": 3,
   "metadata": {},
   "outputs": [],
   "source": [
    "p_file = 'RCT_labels'\n",
    "\n",
    "with open(p_file, 'rb') as fin:\n",
    "    labels = pickle.load(fin)\n",
    "\n",
    "labels = to_categorical(np.asarray(labels))"
   ]
  },
  {
   "cell_type": "code",
   "execution_count": 4,
   "metadata": {},
   "outputs": [],
   "source": [
    "p_file = 'Models/vectors'\n",
    "\n",
    "with open(p_file, 'rb') as fin:\n",
    "    data = pickle.load(fin)"
   ]
  },
  {
   "cell_type": "code",
   "execution_count": 5,
   "metadata": {},
   "outputs": [],
   "source": [
    "p_file = 'Models/embedding_matrix'\n",
    "\n",
    "with open(p_file, 'rb') as fin:\n",
    "    embedding_matrix = pickle.load(fin)\n",
    "    "
   ]
  },
  {
   "cell_type": "code",
   "execution_count": 6,
   "metadata": {},
   "outputs": [],
   "source": [
    "X_train, X_test, Y_train, Y_test = train_test_split(data, labels, test_size=0.25)"
   ]
  },
  {
   "cell_type": "code",
   "execution_count": 7,
   "metadata": {},
   "outputs": [],
   "source": [
    "# load pre-trained word embeddings into an Embedding layer\n",
    "# note that we set trainable = False so as to keep the embeddings fixed\n",
    "embedding_layer = Embedding(MAX_NUM_WORDS,\n",
    "                            EMBEDDING_DIM,\n",
    "                            weights=[embedding_matrix],\n",
    "                            input_length=MAX_SEQUENCE_LENGTH,\n",
    "                            trainable=False)"
   ]
  },
  {
   "cell_type": "markdown",
   "metadata": {},
   "source": [
    "# 2 CNN by Iain Marshall"
   ]
  },
  {
   "cell_type": "code",
   "execution_count": 8,
   "metadata": {},
   "outputs": [],
   "source": [
    "def model():\n",
    "    # train a 1D convnet with global maxpooling\n",
    "    sequence_input = Input(shape=(MAX_SEQUENCE_LENGTH,), dtype='int32')\n",
    "    embedded_sequences = embedding_layer(sequence_input)\n",
    "    X = Conv1D(150, 1, activation='relu')(embedded_sequences)\n",
    "    X = BatchNormalization()(X)                                 # Batch normalization\n",
    "    X = Dropout(0.16)(X)                                 # dropout\n",
    "    X = MaxPooling1D(1)(X)\n",
    "\n",
    "    X = Conv1D(150, 3, activation='relu')(X)\n",
    "    X = BatchNormalization()(X)                                 # Batch normalization\n",
    "    X = Dropout(0.16)(X)                                 # dropout\n",
    "    X = MaxPooling1D(3)(X)\n",
    "    \n",
    "    X = Conv1D(150, 5, activation='relu')(X)\n",
    "    X = BatchNormalization()(X)                                 # Batch normalization\n",
    "    X = Dropout(0.16)(X)                                 # dropout\n",
    "    X = MaxPooling1D(5)(X)\n",
    "\n",
    "    X = GlobalMaxPooling1D()(X)\n",
    "    preds = Dense(2, activation='softmax')(X)\n",
    "\n",
    "    model = Model(inputs = sequence_input, outputs = preds)\n",
    "\n",
    "        \n",
    "    return model"
   ]
  },
  {
   "cell_type": "code",
   "execution_count": 9,
   "metadata": {},
   "outputs": [
    {
     "name": "stdout",
     "output_type": "stream",
     "text": [
      "WARNING:tensorflow:From /home/dc/anaconda3/envs/tensorflow/lib/python3.6/site-packages/tensorflow/python/util/deprecation.py:497: calling conv1d (from tensorflow.python.ops.nn_ops) with data_format=NHWC is deprecated and will be removed in a future version.\n",
      "Instructions for updating:\n",
      "`NHWC` for data_format is deprecated, use `NWC` instead\n"
     ]
    }
   ],
   "source": [
    "model = model()"
   ]
  },
  {
   "cell_type": "code",
   "execution_count": 10,
   "metadata": {},
   "outputs": [
    {
     "name": "stdout",
     "output_type": "stream",
     "text": [
      "_________________________________________________________________\n",
      "Layer (type)                 Output Shape              Param #   \n",
      "=================================================================\n",
      "input_1 (InputLayer)         (None, 1000)              0         \n",
      "_________________________________________________________________\n",
      "embedding_1 (Embedding)      (None, 1000, 200)         4000000   \n",
      "_________________________________________________________________\n",
      "conv1d_1 (Conv1D)            (None, 1000, 150)         30150     \n",
      "_________________________________________________________________\n",
      "batch_normalization_1 (Batch (None, 1000, 150)         600       \n",
      "_________________________________________________________________\n",
      "dropout_1 (Dropout)          (None, 1000, 150)         0         \n",
      "_________________________________________________________________\n",
      "max_pooling1d_1 (MaxPooling1 (None, 1000, 150)         0         \n",
      "_________________________________________________________________\n",
      "conv1d_2 (Conv1D)            (None, 998, 150)          67650     \n",
      "_________________________________________________________________\n",
      "batch_normalization_2 (Batch (None, 998, 150)          600       \n",
      "_________________________________________________________________\n",
      "dropout_2 (Dropout)          (None, 998, 150)          0         \n",
      "_________________________________________________________________\n",
      "max_pooling1d_2 (MaxPooling1 (None, 332, 150)          0         \n",
      "_________________________________________________________________\n",
      "conv1d_3 (Conv1D)            (None, 328, 150)          112650    \n",
      "_________________________________________________________________\n",
      "batch_normalization_3 (Batch (None, 328, 150)          600       \n",
      "_________________________________________________________________\n",
      "dropout_3 (Dropout)          (None, 328, 150)          0         \n",
      "_________________________________________________________________\n",
      "max_pooling1d_3 (MaxPooling1 (None, 65, 150)           0         \n",
      "_________________________________________________________________\n",
      "global_max_pooling1d_1 (Glob (None, 150)               0         \n",
      "_________________________________________________________________\n",
      "dense_1 (Dense)              (None, 2)                 302       \n",
      "=================================================================\n",
      "Total params: 4,212,552\n",
      "Trainable params: 211,652\n",
      "Non-trainable params: 4,000,900\n",
      "_________________________________________________________________\n"
     ]
    }
   ],
   "source": [
    "model.summary()"
   ]
  },
  {
   "cell_type": "code",
   "execution_count": 11,
   "metadata": {},
   "outputs": [],
   "source": [
    "from keras.utils import plot_model\n",
    "plot_model(model, to_file='cnnROBOT.png')"
   ]
  },
  {
   "cell_type": "markdown",
   "metadata": {},
   "source": [
    "<img src='cnnROBOT.png'>"
   ]
  },
  {
   "cell_type": "code",
   "execution_count": 11,
   "metadata": {},
   "outputs": [],
   "source": [
    "opt = Adam(lr=0.0003, beta_1=0.9, beta_2=0.999, decay=0.01)\n",
    "model.compile(loss='binary_crossentropy', optimizer=opt, metrics=[\"accuracy\"])"
   ]
  },
  {
   "cell_type": "code",
   "execution_count": 12,
   "metadata": {},
   "outputs": [
    {
     "name": "stdout",
     "output_type": "stream",
     "text": [
      "Epoch 1/20\n",
      "14333/14333 [==============================] - 21s 1ms/step - loss: 0.6506 - acc: 0.7442\n",
      "Epoch 2/20\n",
      "14333/14333 [==============================] - 19s 1ms/step - loss: 0.4949 - acc: 0.7989\n",
      "Epoch 3/20\n",
      "14333/14333 [==============================] - 19s 1ms/step - loss: 0.4669 - acc: 0.8069\n",
      "Epoch 4/20\n",
      "14333/14333 [==============================] - 19s 1ms/step - loss: 0.4524 - acc: 0.8149\n",
      "Epoch 5/20\n",
      "14333/14333 [==============================] - 20s 1ms/step - loss: 0.4416 - acc: 0.8162\n",
      "Epoch 6/20\n",
      "14333/14333 [==============================] - 20s 1ms/step - loss: 0.4269 - acc: 0.8258\n",
      "Epoch 7/20\n",
      "14333/14333 [==============================] - 20s 1ms/step - loss: 0.4288 - acc: 0.8212\n",
      "Epoch 8/20\n",
      "14333/14333 [==============================] - 20s 1ms/step - loss: 0.4206 - acc: 0.8268\n",
      "Epoch 9/20\n",
      "14333/14333 [==============================] - 20s 1ms/step - loss: 0.4136 - acc: 0.8263\n",
      "Epoch 10/20\n",
      "14333/14333 [==============================] - 20s 1ms/step - loss: 0.4153 - acc: 0.8237\n",
      "Epoch 11/20\n",
      "14333/14333 [==============================] - 20s 1ms/step - loss: 0.4074 - acc: 0.8300\n",
      "Epoch 12/20\n",
      "14333/14333 [==============================] - 20s 1ms/step - loss: 0.4018 - acc: 0.8328\n",
      "Epoch 13/20\n",
      "14333/14333 [==============================] - 20s 1ms/step - loss: 0.4016 - acc: 0.8343\n",
      "Epoch 14/20\n",
      "14333/14333 [==============================] - 20s 1ms/step - loss: 0.4045 - acc: 0.8337\n",
      "Epoch 15/20\n",
      "14333/14333 [==============================] - 20s 1ms/step - loss: 0.3958 - acc: 0.8332\n",
      "Epoch 16/20\n",
      "14333/14333 [==============================] - 20s 1ms/step - loss: 0.4029 - acc: 0.8337\n",
      "Epoch 17/20\n",
      "14333/14333 [==============================] - 20s 1ms/step - loss: 0.3932 - acc: 0.8346\n",
      "Epoch 18/20\n",
      "14333/14333 [==============================] - 20s 1ms/step - loss: 0.3960 - acc: 0.8365\n",
      "Epoch 19/20\n",
      "14333/14333 [==============================] - 20s 1ms/step - loss: 0.3974 - acc: 0.8328\n",
      "Epoch 20/20\n",
      "14333/14333 [==============================] - 20s 1ms/step - loss: 0.3935 - acc: 0.8372\n"
     ]
    },
    {
     "data": {
      "text/plain": [
       "<keras.callbacks.History at 0x7fe1f4407d30>"
      ]
     },
     "execution_count": 12,
     "metadata": {},
     "output_type": "execute_result"
    }
   ],
   "source": [
    "# Fit the model\n",
    "model.fit(X_train, Y_train, batch_size = 64, epochs=20)"
   ]
  },
  {
   "cell_type": "code",
   "execution_count": 13,
   "metadata": {},
   "outputs": [],
   "source": [
    "model_json = model.to_json()\n",
    "with open (\"Models/cnnROBOT.json\", \"w\") as json_file:\n",
    "    json_file.write(model_json)\n",
    "model.save_weights(\"Models/cnnROBOT.h5\")"
   ]
  },
  {
   "cell_type": "code",
   "execution_count": 14,
   "metadata": {},
   "outputs": [
    {
     "name": "stdout",
     "output_type": "stream",
     "text": [
      "4778/4778 [==============================] - 2s 418us/step\n",
      "Validation set accuracy =  0.8156132272418546\n"
     ]
    }
   ],
   "source": [
    "loss, acc = model.evaluate(X_test, Y_test)\n",
    "print(\"Validation set accuracy = \", acc)"
   ]
  },
  {
   "cell_type": "code",
   "execution_count": 15,
   "metadata": {},
   "outputs": [
    {
     "name": "stdout",
     "output_type": "stream",
     "text": [
      "4778/4778 [==============================] - 2s 395us/step\n",
      "             precision    recall  f1-score   support\n",
      "\n",
      "          0       0.82      0.86      0.84      2630\n",
      "          1       0.82      0.76      0.79      2148\n",
      "\n",
      "avg / total       0.82      0.82      0.81      4778\n",
      "\n"
     ]
    }
   ],
   "source": [
    "from sklearn.metrics import classification_report\n",
    "\n",
    "pred = model.predict(X_test, batch_size=32, verbose=1)\n",
    "predicted = np.argmax(pred, axis=1)\n",
    "report = classification_report(np.argmax(Y_test, axis=1), predicted)\n",
    "print(report)"
   ]
  }
 ],
 "metadata": {
  "kernelspec": {
   "display_name": "TensorFlow",
   "language": "python",
   "name": "tensorflow"
  },
  "language_info": {
   "codemirror_mode": {
    "name": "ipython",
    "version": 3
   },
   "file_extension": ".py",
   "mimetype": "text/x-python",
   "name": "python",
   "nbconvert_exporter": "python",
   "pygments_lexer": "ipython3",
   "version": "3.6.4"
  }
 },
 "nbformat": 4,
 "nbformat_minor": 2
}

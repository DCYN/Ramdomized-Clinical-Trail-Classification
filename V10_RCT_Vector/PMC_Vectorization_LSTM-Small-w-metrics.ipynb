{
 "cells": [
  {
   "cell_type": "markdown",
   "metadata": {},
   "source": [
    "# Summary\n",
    "\n",
    "Thanks for Dave to share the great PMC vectorization file: http://evexdb.org/pmresources/vec-space-models/\n",
    "\n",
    "Pretrained embedding layer loaded\n",
    "\n",
    "A small LSTM with lower RNN drop out.\n",
    "\n",
    "Smaller sequence length."
   ]
  },
  {
   "cell_type": "code",
   "execution_count": 1,
   "metadata": {},
   "outputs": [
    {
     "name": "stderr",
     "output_type": "stream",
     "text": [
      "/home/dc/anaconda3/envs/tensorflow/lib/python3.6/site-packages/h5py/__init__.py:36: FutureWarning: Conversion of the second argument of issubdtype from `float` to `np.floating` is deprecated. In future, it will be treated as `np.float64 == np.dtype(float).type`.\n",
      "  from ._conv import register_converters as _register_converters\n",
      "Using TensorFlow backend.\n"
     ]
    }
   ],
   "source": [
    "from __future__ import print_function\n",
    "\n",
    "import os\n",
    "import sys\n",
    "import numpy as np\n",
    "from keras.preprocessing.text import Tokenizer\n",
    "from keras.preprocessing.sequence import pad_sequences\n",
    "from keras.utils import to_categorical\n",
    "from keras.layers import Dense, Input, GlobalMaxPooling1D\n",
    "from keras.layers import Conv1D, MaxPooling1D, Embedding\n",
    "from keras.models import Model\n",
    "from gensim.models import KeyedVectors\n",
    "import pickle\n",
    "from sklearn.model_selection import GridSearchCV, train_test_split\n",
    "from keras.layers import GRU, Bidirectional, BatchNormalization, Reshape\n",
    "from keras.layers import Dense, Activation, Dropout, Input, Masking, TimeDistributed, LSTM, Conv1D\n",
    "from keras.optimizers import Adam\n",
    "\n",
    "\n",
    "\n",
    "MAX_SEQUENCE_LENGTH = 100\n",
    "MAX_NUM_WORDS = 20000\n",
    "EMBEDDING_DIM = 200"
   ]
  },
  {
   "cell_type": "markdown",
   "metadata": {},
   "source": [
    "# 1 Embedding"
   ]
  },
  {
   "cell_type": "code",
   "execution_count": 2,
   "metadata": {},
   "outputs": [],
   "source": [
    "p_file = 'data_X'\n",
    "\n",
    "with open(p_file, 'rb') as fin:\n",
    "    data_X = pickle.load(fin)"
   ]
  },
  {
   "cell_type": "code",
   "execution_count": 3,
   "metadata": {},
   "outputs": [],
   "source": [
    "p_file = 'RCT_labels'\n",
    "\n",
    "with open(p_file, 'rb') as fin:\n",
    "    labels = pickle.load(fin)\n",
    "\n",
    "labels = to_categorical(np.asarray(labels))"
   ]
  },
  {
   "cell_type": "code",
   "execution_count": 4,
   "metadata": {},
   "outputs": [],
   "source": [
    "p_file = 'Models/vectors_small1'\n",
    "\n",
    "with open(p_file, 'rb') as fin:\n",
    "    data = pickle.load(fin)"
   ]
  },
  {
   "cell_type": "code",
   "execution_count": 5,
   "metadata": {},
   "outputs": [],
   "source": [
    "p_file = 'Models/embedding_matrix_small1'\n",
    "\n",
    "with open(p_file, 'rb') as fin:\n",
    "    embedding_matrix = pickle.load(fin)\n",
    "    "
   ]
  },
  {
   "cell_type": "code",
   "execution_count": 6,
   "metadata": {},
   "outputs": [],
   "source": [
    "X_train, X_test, Y_train, Y_test = train_test_split(data, labels, test_size=0.25)"
   ]
  },
  {
   "cell_type": "code",
   "execution_count": 7,
   "metadata": {},
   "outputs": [],
   "source": [
    "# load pre-trained word embeddings into an Embedding layer\n",
    "# note that we set trainable = False so as to keep the embeddings fixed\n",
    "embedding_layer = Embedding(MAX_NUM_WORDS,\n",
    "                            EMBEDDING_DIM,\n",
    "                            weights=[embedding_matrix],\n",
    "                            input_length=MAX_SEQUENCE_LENGTH,\n",
    "                            trainable=False)"
   ]
  },
  {
   "cell_type": "markdown",
   "metadata": {},
   "source": [
    "# 2 LSTM"
   ]
  },
  {
   "cell_type": "code",
   "execution_count": 8,
   "metadata": {},
   "outputs": [],
   "source": [
    "def model():\n",
    "        \n",
    "    sequence_input = Input(shape=(MAX_SEQUENCE_LENGTH,), dtype='int32')\n",
    "    embedded_sequences = embedding_layer(sequence_input)\n",
    "    \n",
    "    # Cov layer\n",
    "    X = Conv1D(filters=256, kernel_size=15, strides=4)(embedded_sequences)                                 # CONV1D\n",
    "    X = BatchNormalization()(X)                                 # Batch normalization\n",
    "    X = Activation('relu')(X)                                 # ReLu activation\n",
    "    X = Dropout(0.6)(X)                                 # dropout\n",
    "    \n",
    "    # LSTM layer 1\n",
    "    X = LSTM(32, return_sequences=True, recurrent_dropout = 0.5)(X)\n",
    "    X = Dropout(0.5)(X)\n",
    "    \n",
    "    # LSTM layer 2 \n",
    "    X = LSTM(32, recurrent_dropout = 0.5)(X)\n",
    "    X = Dropout(0.5)(X)\n",
    "    \n",
    "    X = Dense(2)(X)  \n",
    "    # Softmax layer\n",
    "    X = Activation('softmax')(X)\n",
    "    \n",
    "    # Create Model instance\n",
    "    model = Model(inputs = sequence_input, outputs = X)\n",
    "        \n",
    "    return model"
   ]
  },
  {
   "cell_type": "code",
   "execution_count": 9,
   "metadata": {},
   "outputs": [],
   "source": [
    "model = model()"
   ]
  },
  {
   "cell_type": "code",
   "execution_count": 10,
   "metadata": {},
   "outputs": [
    {
     "name": "stdout",
     "output_type": "stream",
     "text": [
      "_________________________________________________________________\n",
      "Layer (type)                 Output Shape              Param #   \n",
      "=================================================================\n",
      "input_1 (InputLayer)         (None, 100)               0         \n",
      "_________________________________________________________________\n",
      "embedding_1 (Embedding)      (None, 100, 200)          4000000   \n",
      "_________________________________________________________________\n",
      "conv1d_1 (Conv1D)            (None, 22, 256)           768256    \n",
      "_________________________________________________________________\n",
      "batch_normalization_1 (Batch (None, 22, 256)           1024      \n",
      "_________________________________________________________________\n",
      "activation_1 (Activation)    (None, 22, 256)           0         \n",
      "_________________________________________________________________\n",
      "dropout_1 (Dropout)          (None, 22, 256)           0         \n",
      "_________________________________________________________________\n",
      "lstm_1 (LSTM)                (None, 22, 32)            36992     \n",
      "_________________________________________________________________\n",
      "dropout_2 (Dropout)          (None, 22, 32)            0         \n",
      "_________________________________________________________________\n",
      "lstm_2 (LSTM)                (None, 32)                8320      \n",
      "_________________________________________________________________\n",
      "dropout_3 (Dropout)          (None, 32)                0         \n",
      "_________________________________________________________________\n",
      "dense_1 (Dense)              (None, 2)                 66        \n",
      "_________________________________________________________________\n",
      "activation_2 (Activation)    (None, 2)                 0         \n",
      "=================================================================\n",
      "Total params: 4,814,658\n",
      "Trainable params: 814,146\n",
      "Non-trainable params: 4,000,512\n",
      "_________________________________________________________________\n"
     ]
    }
   ],
   "source": [
    "model.summary()"
   ]
  },
  {
   "cell_type": "code",
   "execution_count": 11,
   "metadata": {},
   "outputs": [],
   "source": [
    "from keras.utils import plot_model\n",
    "plot_model(model, to_file='LSTMSmall.png')"
   ]
  },
  {
   "cell_type": "markdown",
   "metadata": {},
   "source": [
    "<img src='LSTMSmall.png'>"
   ]
  },
  {
   "cell_type": "code",
   "execution_count": 13,
   "metadata": {},
   "outputs": [],
   "source": [
    "opt = Adam(lr=0.0003, beta_1=0.9, beta_2=0.999, decay=0.01)\n",
    "model.compile(loss='binary_crossentropy', optimizer=opt, metrics=[\"accuracy\"])"
   ]
  },
  {
   "cell_type": "code",
   "execution_count": 14,
   "metadata": {},
   "outputs": [
    {
     "name": "stdout",
     "output_type": "stream",
     "text": [
      "Epoch 1/20\n",
      "14333/14333 [==============================] - 32s 2ms/step - loss: 0.5234 - acc: 0.7542\n",
      "Epoch 2/20\n",
      "14333/14333 [==============================] - 29s 2ms/step - loss: 0.4673 - acc: 0.7929\n",
      "Epoch 3/20\n",
      "14333/14333 [==============================] - 28s 2ms/step - loss: 0.4523 - acc: 0.8064\n",
      "Epoch 4/20\n",
      "14333/14333 [==============================] - 28s 2ms/step - loss: 0.4456 - acc: 0.8082\n",
      "Epoch 5/20\n",
      "14333/14333 [==============================] - 28s 2ms/step - loss: 0.4403 - acc: 0.8122\n",
      "Epoch 6/20\n",
      "14333/14333 [==============================] - 28s 2ms/step - loss: 0.4351 - acc: 0.8150\n",
      "Epoch 7/20\n",
      "14333/14333 [==============================] - 28s 2ms/step - loss: 0.4279 - acc: 0.8225\n",
      "Epoch 8/20\n",
      "14333/14333 [==============================] - 28s 2ms/step - loss: 0.4267 - acc: 0.8196\n",
      "Epoch 9/20\n",
      "14333/14333 [==============================] - 28s 2ms/step - loss: 0.4227 - acc: 0.8263\n",
      "Epoch 10/20\n",
      "14333/14333 [==============================] - 28s 2ms/step - loss: 0.4196 - acc: 0.8273\n",
      "Epoch 11/20\n",
      "14333/14333 [==============================] - 28s 2ms/step - loss: 0.4147 - acc: 0.8253\n",
      "Epoch 12/20\n",
      "14333/14333 [==============================] - 28s 2ms/step - loss: 0.4161 - acc: 0.8276\n",
      "Epoch 13/20\n",
      "14333/14333 [==============================] - 28s 2ms/step - loss: 0.4133 - acc: 0.8296\n",
      "Epoch 14/20\n",
      "14333/14333 [==============================] - 28s 2ms/step - loss: 0.4104 - acc: 0.8300\n",
      "Epoch 15/20\n",
      "14333/14333 [==============================] - 28s 2ms/step - loss: 0.4127 - acc: 0.8279\n",
      "Epoch 16/20\n",
      "14333/14333 [==============================] - 28s 2ms/step - loss: 0.4107 - acc: 0.8287\n",
      "Epoch 17/20\n",
      "14333/14333 [==============================] - 28s 2ms/step - loss: 0.4085 - acc: 0.8309\n",
      "Epoch 18/20\n",
      "14333/14333 [==============================] - 28s 2ms/step - loss: 0.4046 - acc: 0.8310\n",
      "Epoch 19/20\n",
      "14333/14333 [==============================] - 28s 2ms/step - loss: 0.4040 - acc: 0.8333\n",
      "Epoch 20/20\n",
      "14333/14333 [==============================] - 28s 2ms/step - loss: 0.4031 - acc: 0.8309\n"
     ]
    },
    {
     "data": {
      "text/plain": [
       "<keras.callbacks.History at 0x7fd91c30fc88>"
      ]
     },
     "execution_count": 14,
     "metadata": {},
     "output_type": "execute_result"
    }
   ],
   "source": [
    "# Fit the model\n",
    "model.fit(X_train, Y_train, batch_size = 64, epochs=20)"
   ]
  },
  {
   "cell_type": "code",
   "execution_count": 15,
   "metadata": {},
   "outputs": [],
   "source": [
    "model_json = model.to_json()\n",
    "with open (\"Models/LSTMSmall.json\", \"w\") as json_file:\n",
    "    json_file.write(model_json)\n",
    "model.save_weights(\"Models/LSTMSmall.h5\")"
   ]
  },
  {
   "cell_type": "code",
   "execution_count": 16,
   "metadata": {},
   "outputs": [
    {
     "name": "stdout",
     "output_type": "stream",
     "text": [
      "4778/4778 [==============================] - 5s 977us/step\n",
      "Validation set accuracy =  0.8026370866471327\n"
     ]
    }
   ],
   "source": [
    "loss, acc = model.evaluate(X_test, Y_test)\n",
    "print(\"Validation set accuracy = \", acc)"
   ]
  },
  {
   "cell_type": "code",
   "execution_count": 17,
   "metadata": {},
   "outputs": [
    {
     "name": "stdout",
     "output_type": "stream",
     "text": [
      "4778/4778 [==============================] - 5s 963us/step\n",
      "             precision    recall  f1-score   support\n",
      "\n",
      "          0       0.86      0.78      0.81      2656\n",
      "          1       0.75      0.84      0.79      2122\n",
      "\n",
      "avg / total       0.81      0.80      0.80      4778\n",
      "\n"
     ]
    }
   ],
   "source": [
    "from sklearn.metrics import classification_report\n",
    "\n",
    "pred = model.predict(X_test, batch_size=32, verbose=1)\n",
    "predicted = np.argmax(pred, axis=1)\n",
    "report = classification_report(np.argmax(Y_test, axis=1), predicted)\n",
    "print(report)"
   ]
  },
  {
   "cell_type": "code",
   "execution_count": null,
   "metadata": {},
   "outputs": [],
   "source": []
  }
 ],
 "metadata": {
  "kernelspec": {
   "display_name": "TensorFlow",
   "language": "python",
   "name": "tensorflow"
  },
  "language_info": {
   "codemirror_mode": {
    "name": "ipython",
    "version": 3
   },
   "file_extension": ".py",
   "mimetype": "text/x-python",
   "name": "python",
   "nbconvert_exporter": "python",
   "pygments_lexer": "ipython3",
   "version": "3.6.5"
  }
 },
 "nbformat": 4,
 "nbformat_minor": 2
}

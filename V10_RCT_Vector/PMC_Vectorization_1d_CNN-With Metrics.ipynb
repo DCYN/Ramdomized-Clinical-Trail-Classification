{
 "cells": [
  {
   "cell_type": "markdown",
   "metadata": {},
   "source": [
    "# Summary\n",
    "\n",
    "Thanks for Dave to share the great PMC vectorization file: http://evexdb.org/pmresources/vec-space-models/\n",
    "\n",
    "The vectorization part is developed from the tutorials by Francois Chollet. A deeper cnn is developed from his network.\n",
    "\n",
    "https://blog.keras.io/using-pre-trained-word-embeddings-in-a-keras-model.html\n",
    "\n"
   ]
  },
  {
   "cell_type": "code",
   "execution_count": 1,
   "metadata": {},
   "outputs": [
    {
     "name": "stderr",
     "output_type": "stream",
     "text": [
      "/home/dc/anaconda3/envs/tensorflow/lib/python3.6/site-packages/h5py/__init__.py:36: FutureWarning: Conversion of the second argument of issubdtype from `float` to `np.floating` is deprecated. In future, it will be treated as `np.float64 == np.dtype(float).type`.\n",
      "  from ._conv import register_converters as _register_converters\n",
      "Using TensorFlow backend.\n"
     ]
    }
   ],
   "source": [
    "from __future__ import print_function\n",
    "\n",
    "import os\n",
    "import sys\n",
    "import numpy as np\n",
    "from keras.preprocessing.text import Tokenizer\n",
    "from keras.preprocessing.sequence import pad_sequences\n",
    "from keras.utils import to_categorical\n",
    "from keras.layers import Dense, Input, GlobalMaxPooling1D\n",
    "from keras.layers import Conv1D, MaxPooling1D, Embedding\n",
    "from keras.models import Model\n",
    "from gensim.models import KeyedVectors\n",
    "import pickle\n",
    "from sklearn.model_selection import GridSearchCV, train_test_split\n",
    "from keras.layers import GRU, Bidirectional, BatchNormalization, Reshape\n",
    "from keras.layers import Dense, Activation, Dropout, Input, Masking, TimeDistributed, LSTM, Conv1D\n",
    "from keras.optimizers import Adam\n",
    "\n",
    "\n",
    "\n",
    "MAX_SEQUENCE_LENGTH = 1000\n",
    "MAX_NUM_WORDS = 20000\n",
    "EMBEDDING_DIM = 200"
   ]
  },
  {
   "cell_type": "markdown",
   "metadata": {},
   "source": [
    "# 1 Embedding"
   ]
  },
  {
   "cell_type": "code",
   "execution_count": 2,
   "metadata": {},
   "outputs": [],
   "source": [
    "p_file = 'data_X'\n",
    "\n",
    "with open(p_file, 'rb') as fin:\n",
    "    data_X = pickle.load(fin)"
   ]
  },
  {
   "cell_type": "code",
   "execution_count": 3,
   "metadata": {},
   "outputs": [],
   "source": [
    "p_file = 'RCT_labels'\n",
    "\n",
    "with open(p_file, 'rb') as fin:\n",
    "    labels = pickle.load(fin)\n",
    "labels = to_categorical(np.asarray(labels))"
   ]
  },
  {
   "cell_type": "code",
   "execution_count": 4,
   "metadata": {
    "scrolled": true
   },
   "outputs": [],
   "source": [
    "p_file = 'Models/vectors'\n",
    "\n",
    "with open(p_file, 'rb') as fin:\n",
    "    data = pickle.load(fin)"
   ]
  },
  {
   "cell_type": "code",
   "execution_count": 5,
   "metadata": {},
   "outputs": [],
   "source": [
    "p_file = 'Models/embedding_matrix'\n",
    "\n",
    "with open(p_file, 'rb') as fin:\n",
    "    embedding_matrix = pickle.load(fin)\n",
    "    "
   ]
  },
  {
   "cell_type": "code",
   "execution_count": 6,
   "metadata": {},
   "outputs": [],
   "source": [
    "X_train, X_test, Y_train, Y_test = train_test_split(data, labels, test_size=0.25)"
   ]
  },
  {
   "cell_type": "code",
   "execution_count": 7,
   "metadata": {},
   "outputs": [],
   "source": [
    "# load pre-trained word embeddings into an Embedding layer\n",
    "# note that we set trainable = False so as to keep the embeddings fixed\n",
    "embedding_layer = Embedding(MAX_NUM_WORDS,\n",
    "                            EMBEDDING_DIM,\n",
    "                            weights=[embedding_matrix],\n",
    "                            input_length=MAX_SEQUENCE_LENGTH,\n",
    "                            trainable=False)"
   ]
  },
  {
   "cell_type": "markdown",
   "metadata": {},
   "source": [
    "# 2 1D CNN"
   ]
  },
  {
   "cell_type": "code",
   "execution_count": 8,
   "metadata": {},
   "outputs": [],
   "source": [
    "def model():\n",
    "    # train a 1D convnet with global maxpooling\n",
    "    sequence_input = Input(shape=(MAX_SEQUENCE_LENGTH,), dtype='int32')\n",
    "    embedded_sequences = embedding_layer(sequence_input)\n",
    "    X = Conv1D(150, 1, activation='relu')(embedded_sequences)\n",
    "    X = BatchNormalization()(X)                                 # Batch normalization\n",
    "    X = Dropout(0.16)(X)                                 # dropout\n",
    "    X = MaxPooling1D(1)(X)\n",
    "\n",
    "    X = Conv1D(150, 3, activation='relu')(X)\n",
    "    X = BatchNormalization()(X)                                 # Batch normalization\n",
    "    X = Dropout(0.16)(X)                                 # dropout\n",
    "    X = MaxPooling1D(3)(X)\n",
    "    \n",
    "    X = Conv1D(150, 5, activation='relu')(X)\n",
    "    X = BatchNormalization()(X)                                 # Batch normalization\n",
    "    X = Dropout(0.16)(X)                                 # dropout\n",
    "    X = MaxPooling1D(5)(X)\n",
    "\n",
    "    X = GlobalMaxPooling1D()(X)\n",
    "    preds = Dense(2, activation='softmax')(X)\n",
    "\n",
    "    model = Model(inputs = sequence_input, outputs = preds)\n",
    "\n",
    "        \n",
    "    return model"
   ]
  },
  {
   "cell_type": "code",
   "execution_count": 9,
   "metadata": {},
   "outputs": [
    {
     "name": "stdout",
     "output_type": "stream",
     "text": [
      "Training model.\n"
     ]
    }
   ],
   "source": [
    "print('Training model.')\n",
    "\n",
    "# train a 1D convnet with global maxpooling\n",
    "sequence_input = Input(shape=(MAX_SEQUENCE_LENGTH,), dtype='int32')\n",
    "embedded_sequences = embedding_layer(sequence_input)\n",
    "x = Conv1D(128, 2, activation='relu')(embedded_sequences)\n",
    "x = MaxPooling1D(2)(x)\n",
    "x = Conv1D(128, 3, activation='relu')(x)\n",
    "x = MaxPooling1D(3)(x)\n",
    "x = Conv1D(128, 5, activation='relu')(x)\n",
    "x = MaxPooling1D(5)(x)\n",
    "x = Conv1D(128, 8, activation='relu')(x)\n",
    "x = GlobalMaxPooling1D()(x)\n",
    "preds = Dense(2, activation='softmax')(x)\n",
    "\n",
    "model = Model(inputs = sequence_input, outputs = preds)\n"
   ]
  },
  {
   "cell_type": "code",
   "execution_count": 10,
   "metadata": {},
   "outputs": [
    {
     "name": "stdout",
     "output_type": "stream",
     "text": [
      "_________________________________________________________________\n",
      "Layer (type)                 Output Shape              Param #   \n",
      "=================================================================\n",
      "input_1 (InputLayer)         (None, 1000)              0         \n",
      "_________________________________________________________________\n",
      "embedding_1 (Embedding)      (None, 1000, 200)         4000000   \n",
      "_________________________________________________________________\n",
      "conv1d_1 (Conv1D)            (None, 999, 128)          51328     \n",
      "_________________________________________________________________\n",
      "max_pooling1d_1 (MaxPooling1 (None, 499, 128)          0         \n",
      "_________________________________________________________________\n",
      "conv1d_2 (Conv1D)            (None, 497, 128)          49280     \n",
      "_________________________________________________________________\n",
      "max_pooling1d_2 (MaxPooling1 (None, 165, 128)          0         \n",
      "_________________________________________________________________\n",
      "conv1d_3 (Conv1D)            (None, 161, 128)          82048     \n",
      "_________________________________________________________________\n",
      "max_pooling1d_3 (MaxPooling1 (None, 32, 128)           0         \n",
      "_________________________________________________________________\n",
      "conv1d_4 (Conv1D)            (None, 25, 128)           131200    \n",
      "_________________________________________________________________\n",
      "global_max_pooling1d_1 (Glob (None, 128)               0         \n",
      "_________________________________________________________________\n",
      "dense_1 (Dense)              (None, 2)                 258       \n",
      "=================================================================\n",
      "Total params: 4,314,114\n",
      "Trainable params: 314,114\n",
      "Non-trainable params: 4,000,000\n",
      "_________________________________________________________________\n"
     ]
    }
   ],
   "source": [
    "model.summary()"
   ]
  },
  {
   "cell_type": "code",
   "execution_count": 11,
   "metadata": {},
   "outputs": [],
   "source": [
    "from keras.utils import plot_model\n",
    "plot_model(model, to_file='1dCNN.png')"
   ]
  },
  {
   "cell_type": "markdown",
   "metadata": {},
   "source": [
    "<img src='1dCNN.png'>"
   ]
  },
  {
   "cell_type": "code",
   "execution_count": 12,
   "metadata": {},
   "outputs": [
    {
     "name": "stdout",
     "output_type": "stream",
     "text": [
      "Train on 14333 samples, validate on 4778 samples\n",
      "Epoch 1/20\n",
      "14333/14333 [==============================] - 8s 563us/step - loss: 0.4850 - acc: 0.7881 - val_loss: 0.3978 - val_acc: 0.8395\n",
      "Epoch 2/20\n",
      "14333/14333 [==============================] - 6s 443us/step - loss: 0.3902 - acc: 0.8400 - val_loss: 0.4112 - val_acc: 0.8368\n",
      "Epoch 3/20\n",
      "14333/14333 [==============================] - 6s 451us/step - loss: 0.3747 - acc: 0.8464 - val_loss: 0.3810 - val_acc: 0.8447\n",
      "Epoch 4/20\n",
      "14333/14333 [==============================] - 6s 443us/step - loss: 0.3627 - acc: 0.8534 - val_loss: 0.3949 - val_acc: 0.8405\n",
      "Epoch 5/20\n",
      "14333/14333 [==============================] - 6s 442us/step - loss: 0.3555 - acc: 0.8547 - val_loss: 0.3862 - val_acc: 0.8399\n",
      "Epoch 6/20\n",
      "14333/14333 [==============================] - 6s 443us/step - loss: 0.3423 - acc: 0.8604 - val_loss: 0.3719 - val_acc: 0.8464\n",
      "Epoch 7/20\n",
      "14333/14333 [==============================] - 6s 443us/step - loss: 0.3355 - acc: 0.8623 - val_loss: 0.3982 - val_acc: 0.8347\n",
      "Epoch 8/20\n",
      "14333/14333 [==============================] - 6s 446us/step - loss: 0.3154 - acc: 0.8698 - val_loss: 0.3898 - val_acc: 0.8441\n",
      "Epoch 9/20\n",
      "14333/14333 [==============================] - 6s 448us/step - loss: 0.2961 - acc: 0.8786 - val_loss: 0.4157 - val_acc: 0.8349\n",
      "Epoch 10/20\n",
      "14333/14333 [==============================] - 6s 448us/step - loss: 0.2669 - acc: 0.8912 - val_loss: 0.4929 - val_acc: 0.8181\n",
      "Epoch 11/20\n",
      "14333/14333 [==============================] - 6s 449us/step - loss: 0.2343 - acc: 0.9055 - val_loss: 0.4179 - val_acc: 0.8445\n",
      "Epoch 12/20\n",
      "14333/14333 [==============================] - 6s 449us/step - loss: 0.2022 - acc: 0.9191 - val_loss: 0.4671 - val_acc: 0.8359\n",
      "Epoch 13/20\n",
      "14333/14333 [==============================] - 7s 454us/step - loss: 0.1708 - acc: 0.9322 - val_loss: 0.4783 - val_acc: 0.8372\n",
      "Epoch 14/20\n",
      "14333/14333 [==============================] - 7s 454us/step - loss: 0.1304 - acc: 0.9500 - val_loss: 0.5712 - val_acc: 0.8357\n",
      "Epoch 15/20\n",
      "14333/14333 [==============================] - 6s 451us/step - loss: 0.1067 - acc: 0.9626 - val_loss: 0.8839 - val_acc: 0.7729\n",
      "Epoch 16/20\n",
      "14333/14333 [==============================] - 6s 445us/step - loss: 0.0847 - acc: 0.9717 - val_loss: 0.6805 - val_acc: 0.8355\n",
      "Epoch 17/20\n",
      "14333/14333 [==============================] - 6s 432us/step - loss: 0.0705 - acc: 0.9791 - val_loss: 0.7744 - val_acc: 0.8344\n",
      "Epoch 18/20\n",
      "14333/14333 [==============================] - 6s 438us/step - loss: 0.0526 - acc: 0.9826 - val_loss: 0.8563 - val_acc: 0.8227\n",
      "Epoch 19/20\n",
      "14333/14333 [==============================] - 6s 434us/step - loss: 0.0454 - acc: 0.9853 - val_loss: 0.7784 - val_acc: 0.8062\n",
      "Epoch 20/20\n",
      "14333/14333 [==============================] - 6s 449us/step - loss: 0.0444 - acc: 0.9856 - val_loss: 0.9130 - val_acc: 0.8303\n"
     ]
    },
    {
     "data": {
      "text/plain": [
       "<keras.callbacks.History at 0x7f5778bf0128>"
      ]
     },
     "execution_count": 12,
     "metadata": {},
     "output_type": "execute_result"
    }
   ],
   "source": [
    "model = Model(sequence_input, preds)\n",
    "model.compile(loss='categorical_crossentropy',\n",
    "              optimizer='rmsprop',\n",
    "              metrics=['acc'])\n",
    "\n",
    "model.fit(X_train, Y_train,\n",
    "          batch_size=128,\n",
    "          epochs=20,\n",
    "          validation_data=(X_test, Y_test))"
   ]
  },
  {
   "cell_type": "code",
   "execution_count": 13,
   "metadata": {},
   "outputs": [],
   "source": [
    "model_json = model.to_json()\n",
    "with open (\"1dCNNModel.json\", \"w\") as json_file:\n",
    "    json_file.write(model_json)\n",
    "model.save_weights(\"1dCNNModel.h5\")"
   ]
  },
  {
   "cell_type": "code",
   "execution_count": 14,
   "metadata": {},
   "outputs": [
    {
     "name": "stdout",
     "output_type": "stream",
     "text": [
      "4778/4778 [==============================] - 1s 179us/step\n",
      "Validation set accuracy =  0.8302637086896629\n"
     ]
    }
   ],
   "source": [
    "loss, acc = model.evaluate(X_test, Y_test)\n",
    "print(\"Validation set accuracy = \", acc)"
   ]
  },
  {
   "cell_type": "code",
   "execution_count": 15,
   "metadata": {},
   "outputs": [
    {
     "name": "stdout",
     "output_type": "stream",
     "text": [
      "4778/4778 [==============================] - 1s 173us/step\n",
      "             precision    recall  f1-score   support\n",
      "\n",
      "          0       0.89      0.79      0.84      2661\n",
      "          1       0.77      0.88      0.82      2117\n",
      "\n",
      "avg / total       0.84      0.83      0.83      4778\n",
      "\n"
     ]
    }
   ],
   "source": [
    "from sklearn.metrics import classification_report\n",
    "\n",
    "pred = model.predict(X_test, batch_size=32, verbose=1)\n",
    "predicted = np.argmax(pred, axis=1)\n",
    "report = classification_report(np.argmax(Y_test, axis=1), predicted)\n",
    "print(report)"
   ]
  }
 ],
 "metadata": {
  "kernelspec": {
   "display_name": "TensorFlow",
   "language": "python",
   "name": "tensorflow"
  },
  "language_info": {
   "codemirror_mode": {
    "name": "ipython",
    "version": 3
   },
   "file_extension": ".py",
   "mimetype": "text/x-python",
   "name": "python",
   "nbconvert_exporter": "python",
   "pygments_lexer": "ipython3",
   "version": "3.6.5"
  }
 },
 "nbformat": 4,
 "nbformat_minor": 2
}

{
 "cells": [
  {
   "cell_type": "markdown",
   "metadata": {},
   "source": [
    "## Summary:\n",
    "- No SMOTE\n",
    "- Based on the 32x32 size vectors for abstracts\n",
    "- 1D Cov + two layers of LSTM is tested"
   ]
  },
  {
   "cell_type": "code",
   "execution_count": 1,
   "metadata": {},
   "outputs": [
    {
     "name": "stderr",
     "output_type": "stream",
     "text": [
      "/home/dc/anaconda3/envs/tensorflow/lib/python3.6/site-packages/h5py/__init__.py:36: FutureWarning: Conversion of the second argument of issubdtype from `float` to `np.floating` is deprecated. In future, it will be treated as `np.float64 == np.dtype(float).type`.\n",
      "  from ._conv import register_converters as _register_converters\n",
      "Using TensorFlow backend.\n"
     ]
    },
    {
     "name": "stdout",
     "output_type": "stream",
     "text": [
      "Populating the interactive namespace from numpy and matplotlib\n"
     ]
    }
   ],
   "source": [
    "import pickle\n",
    "\n",
    "from sklearn.metrics import confusion_matrix\n",
    "from sklearn.metrics import classification_report\n",
    "from sklearn.model_selection import GridSearchCV, train_test_split\n",
    "from imblearn.over_sampling import SMOTE, ADASYN\n",
    "\n",
    "import numpy as np\n",
    "from keras.models import Model\n",
    "from keras.layers.embeddings import Embedding\n",
    "from keras.preprocessing import sequence\n",
    "from keras.initializers import glorot_uniform\n",
    "\n",
    "from keras.callbacks import ModelCheckpoint\n",
    "from keras.models import Model, load_model, Sequential\n",
    "from keras.layers import Dense, Activation, Dropout, Input, Masking, TimeDistributed, LSTM, Conv1D\n",
    "from keras.layers import GRU, Bidirectional, BatchNormalization, Reshape\n",
    "from keras.optimizers import Adam\n",
    "np.random.seed(1)\n",
    "\n",
    "%pylab inline\n",
    "warnings.filterwarnings(\"ignore\")"
   ]
  },
  {
   "cell_type": "markdown",
   "metadata": {},
   "source": [
    "# 1. Data Preparation"
   ]
  },
  {
   "cell_type": "code",
   "execution_count": 2,
   "metadata": {},
   "outputs": [],
   "source": [
    "p_file = 'RCT_Vectors'\n",
    "with open(p_file, 'rb') as fin:\n",
    "    vectors = pickle.load(fin)"
   ]
  },
  {
   "cell_type": "code",
   "execution_count": 3,
   "metadata": {},
   "outputs": [],
   "source": [
    "p_file = 'RCT_labels'\n",
    "with open(p_file, 'rb') as fin:\n",
    "    data_Y = pickle.load(fin)"
   ]
  },
  {
   "cell_type": "code",
   "execution_count": 4,
   "metadata": {},
   "outputs": [],
   "source": [
    "d2v_X_train, d2v_X_test, d2v_Y_train, d2v_Y_test = train_test_split(vectors, data_Y, test_size=0.25)"
   ]
  },
  {
   "cell_type": "code",
   "execution_count": 5,
   "metadata": {},
   "outputs": [],
   "source": [
    "X_train_array = np.array(d2v_X_train)\n",
    "Y_train_array = np.array(d2v_Y_train)\n",
    "X_test_array = np.array(d2v_X_test)\n",
    "Y_test_array = np.array(d2v_Y_test)"
   ]
  },
  {
   "cell_type": "code",
   "execution_count": 6,
   "metadata": {},
   "outputs": [
    {
     "data": {
      "text/plain": [
       "((14333, 1024), (14333,), (4778, 1024), (4778,), 19111)"
      ]
     },
     "execution_count": 6,
     "metadata": {},
     "output_type": "execute_result"
    }
   ],
   "source": [
    "# double check whether oversampling works\n",
    "X_train_array.shape, Y_train_array.shape, X_test_array.shape, Y_test_array.shape, len(vectors)"
   ]
  },
  {
   "cell_type": "code",
   "execution_count": 7,
   "metadata": {},
   "outputs": [],
   "source": [
    "xtr, xt = X_train_array.shape, X_test_array.shape"
   ]
  },
  {
   "cell_type": "code",
   "execution_count": 8,
   "metadata": {},
   "outputs": [],
   "source": [
    "# reshape dataset\n",
    "X_train = X_train_array.reshape(xtr[0],32,32) \n",
    "Y_train = np.eye(2)[Y_train_array.astype(int)] \n",
    "X_test = X_test_array.reshape(xt[0],32,32) \n",
    "Y_test = np.eye(2)[Y_test_array.astype(int)] "
   ]
  },
  {
   "cell_type": "markdown",
   "metadata": {},
   "source": [
    "# 2. LSTM"
   ]
  },
  {
   "cell_type": "code",
   "execution_count": 9,
   "metadata": {},
   "outputs": [],
   "source": [
    "def model(input_shape):\n",
    "    \n",
    "    X_input = Input(shape = input_shape)\n",
    "    \n",
    "    # Cov layer\n",
    "    X = Conv1D(filters=768, kernel_size=15, strides=4)(X_input)                                 # CONV1D\n",
    "    X = BatchNormalization()(X)                                 # Batch normalization\n",
    "    X = Activation('relu')(X)                                 # ReLu activation\n",
    "    X = Dropout(0.6)(X)                                 # dropout\n",
    "    \n",
    "    # LSTM layer 1\n",
    "    X = LSTM(512, return_sequences=True)(X)\n",
    "    X = Dropout(0.5)(X)\n",
    "    \n",
    "    # LSTM layer 2 \n",
    "    X = LSTM(512)(X)\n",
    "    X = Dropout(0.5)(X)\n",
    "    \n",
    "    X = Dense(2)(X)  \n",
    "    # Softmax layer\n",
    "    X = Activation('softmax')(X)\n",
    "    \n",
    "    # Create Model instance\n",
    "    model = Model(inputs = X_input, outputs = X)\n",
    "        \n",
    "    return model"
   ]
  },
  {
   "cell_type": "code",
   "execution_count": 10,
   "metadata": {},
   "outputs": [
    {
     "name": "stdout",
     "output_type": "stream",
     "text": [
      "WARNING:tensorflow:From /home/dc/anaconda3/envs/tensorflow/lib/python3.6/site-packages/tensorflow/python/util/deprecation.py:497: calling conv1d (from tensorflow.python.ops.nn_ops) with data_format=NHWC is deprecated and will be removed in a future version.\n",
      "Instructions for updating:\n",
      "`NHWC` for data_format is deprecated, use `NWC` instead\n"
     ]
    }
   ],
   "source": [
    "model = model(input_shape = (32,32))"
   ]
  },
  {
   "cell_type": "code",
   "execution_count": 11,
   "metadata": {},
   "outputs": [
    {
     "name": "stdout",
     "output_type": "stream",
     "text": [
      "_________________________________________________________________\n",
      "Layer (type)                 Output Shape              Param #   \n",
      "=================================================================\n",
      "input_1 (InputLayer)         (None, 32, 32)            0         \n",
      "_________________________________________________________________\n",
      "conv1d_1 (Conv1D)            (None, 5, 768)            369408    \n",
      "_________________________________________________________________\n",
      "batch_normalization_1 (Batch (None, 5, 768)            3072      \n",
      "_________________________________________________________________\n",
      "activation_1 (Activation)    (None, 5, 768)            0         \n",
      "_________________________________________________________________\n",
      "dropout_1 (Dropout)          (None, 5, 768)            0         \n",
      "_________________________________________________________________\n",
      "lstm_1 (LSTM)                (None, 5, 512)            2623488   \n",
      "_________________________________________________________________\n",
      "dropout_2 (Dropout)          (None, 5, 512)            0         \n",
      "_________________________________________________________________\n",
      "lstm_2 (LSTM)                (None, 512)               2099200   \n",
      "_________________________________________________________________\n",
      "dropout_3 (Dropout)          (None, 512)               0         \n",
      "_________________________________________________________________\n",
      "dense_1 (Dense)              (None, 2)                 1026      \n",
      "_________________________________________________________________\n",
      "activation_2 (Activation)    (None, 2)                 0         \n",
      "=================================================================\n",
      "Total params: 5,096,194\n",
      "Trainable params: 5,094,658\n",
      "Non-trainable params: 1,536\n",
      "_________________________________________________________________\n"
     ]
    }
   ],
   "source": [
    "model.summary()"
   ]
  },
  {
   "cell_type": "code",
   "execution_count": 12,
   "metadata": {},
   "outputs": [],
   "source": [
    "from keras.utils import plot_model\n",
    "plot_model(model, to_file='LSTMModel.png')"
   ]
  },
  {
   "cell_type": "markdown",
   "metadata": {},
   "source": [
    "<img src='LSTMModel.png'>"
   ]
  },
  {
   "cell_type": "code",
   "execution_count": 13,
   "metadata": {},
   "outputs": [],
   "source": [
    "opt = Adam(lr=0.0003, beta_1=0.9, beta_2=0.999, decay=0.01)\n",
    "model.compile(loss='binary_crossentropy', optimizer=opt, metrics=[\"accuracy\"])"
   ]
  },
  {
   "cell_type": "code",
   "execution_count": 14,
   "metadata": {
    "scrolled": true
   },
   "outputs": [
    {
     "name": "stdout",
     "output_type": "stream",
     "text": [
      "WARNING:tensorflow:Variable *= will be deprecated. Use variable.assign_mul if you want assignment to the variable value or 'x = x * y' if you want a new python Tensor object.\n",
      "Epoch 1/200\n",
      "14333/14333 [==============================] - 8s 542us/step - loss: 0.5351 - acc: 0.7398\n",
      "Epoch 2/200\n",
      "14333/14333 [==============================] - 6s 419us/step - loss: 0.4768 - acc: 0.7820\n",
      "Epoch 3/200\n",
      "14333/14333 [==============================] - 6s 420us/step - loss: 0.4567 - acc: 0.7923\n",
      "Epoch 4/200\n",
      "14333/14333 [==============================] - 6s 418us/step - loss: 0.4467 - acc: 0.7961\n",
      "Epoch 5/200\n",
      "14333/14333 [==============================] - 6s 418us/step - loss: 0.4402 - acc: 0.7993\n",
      "Epoch 6/200\n",
      "14333/14333 [==============================] - 6s 421us/step - loss: 0.4318 - acc: 0.8060\n",
      "Epoch 7/200\n",
      "14333/14333 [==============================] - 6s 423us/step - loss: 0.4267 - acc: 0.8085\n",
      "Epoch 8/200\n",
      "14333/14333 [==============================] - 6s 427us/step - loss: 0.4214 - acc: 0.8120\n",
      "Epoch 9/200\n",
      "14333/14333 [==============================] - 6s 425us/step - loss: 0.4165 - acc: 0.8127\n",
      "Epoch 10/200\n",
      "14333/14333 [==============================] - 6s 436us/step - loss: 0.4072 - acc: 0.8171\n",
      "Epoch 11/200\n",
      "14333/14333 [==============================] - 6s 438us/step - loss: 0.4077 - acc: 0.8192\n",
      "Epoch 12/200\n",
      "14333/14333 [==============================] - 6s 437us/step - loss: 0.4050 - acc: 0.8202\n",
      "Epoch 13/200\n",
      "14333/14333 [==============================] - 6s 437us/step - loss: 0.4019 - acc: 0.8208\n",
      "Epoch 14/200\n",
      "14333/14333 [==============================] - 6s 438us/step - loss: 0.3968 - acc: 0.8229\n",
      "Epoch 15/200\n",
      "14333/14333 [==============================] - 6s 436us/step - loss: 0.3954 - acc: 0.8282\n",
      "Epoch 16/200\n",
      "14333/14333 [==============================] - 6s 437us/step - loss: 0.3925 - acc: 0.8252\n",
      "Epoch 17/200\n",
      "14333/14333 [==============================] - 6s 435us/step - loss: 0.3882 - acc: 0.8309\n",
      "Epoch 18/200\n",
      "14333/14333 [==============================] - 6s 435us/step - loss: 0.3851 - acc: 0.8300\n",
      "Epoch 19/200\n",
      "14333/14333 [==============================] - 6s 435us/step - loss: 0.3829 - acc: 0.8319\n",
      "Epoch 20/200\n",
      "14333/14333 [==============================] - 6s 432us/step - loss: 0.3824 - acc: 0.8322\n",
      "Epoch 21/200\n",
      "14333/14333 [==============================] - 6s 434us/step - loss: 0.3858 - acc: 0.8301\n",
      "Epoch 22/200\n",
      "14333/14333 [==============================] - 6s 431us/step - loss: 0.3792 - acc: 0.8327\n",
      "Epoch 23/200\n",
      "14333/14333 [==============================] - 6s 429us/step - loss: 0.3743 - acc: 0.8341\n",
      "Epoch 24/200\n",
      "14333/14333 [==============================] - 6s 432us/step - loss: 0.3732 - acc: 0.8386\n",
      "Epoch 25/200\n",
      "14333/14333 [==============================] - 6s 431us/step - loss: 0.3715 - acc: 0.8361\n",
      "Epoch 26/200\n",
      "14333/14333 [==============================] - 6s 431us/step - loss: 0.3693 - acc: 0.8369\n",
      "Epoch 27/200\n",
      "14333/14333 [==============================] - 6s 430us/step - loss: 0.3731 - acc: 0.8385\n",
      "Epoch 28/200\n",
      "14333/14333 [==============================] - 6s 430us/step - loss: 0.3671 - acc: 0.8416\n",
      "Epoch 29/200\n",
      "14333/14333 [==============================] - 6s 429us/step - loss: 0.3637 - acc: 0.8427\n",
      "Epoch 30/200\n",
      "14333/14333 [==============================] - 6s 428us/step - loss: 0.3634 - acc: 0.8402\n",
      "Epoch 31/200\n",
      "14333/14333 [==============================] - 6s 425us/step - loss: 0.3619 - acc: 0.8453\n",
      "Epoch 32/200\n",
      "14333/14333 [==============================] - 6s 425us/step - loss: 0.3616 - acc: 0.8416\n",
      "Epoch 33/200\n",
      "14333/14333 [==============================] - 6s 423us/step - loss: 0.3630 - acc: 0.8391\n",
      "Epoch 34/200\n",
      "14333/14333 [==============================] - 6s 422us/step - loss: 0.3652 - acc: 0.8378\n",
      "Epoch 35/200\n",
      "14333/14333 [==============================] - 6s 423us/step - loss: 0.3572 - acc: 0.8458\n",
      "Epoch 36/200\n",
      "14333/14333 [==============================] - 6s 422us/step - loss: 0.3526 - acc: 0.8457\n",
      "Epoch 37/200\n",
      "14333/14333 [==============================] - 6s 423us/step - loss: 0.3553 - acc: 0.8444\n",
      "Epoch 38/200\n",
      "14333/14333 [==============================] - 6s 423us/step - loss: 0.3567 - acc: 0.8440\n",
      "Epoch 39/200\n",
      "14333/14333 [==============================] - 6s 424us/step - loss: 0.3557 - acc: 0.8463\n",
      "Epoch 40/200\n",
      "14333/14333 [==============================] - 6s 423us/step - loss: 0.3488 - acc: 0.8435\n",
      "Epoch 41/200\n",
      "14333/14333 [==============================] - 6s 423us/step - loss: 0.3518 - acc: 0.8466\n",
      "Epoch 42/200\n",
      "14333/14333 [==============================] - 6s 423us/step - loss: 0.3546 - acc: 0.8471\n",
      "Epoch 43/200\n",
      "14333/14333 [==============================] - 6s 424us/step - loss: 0.3468 - acc: 0.8503\n",
      "Epoch 44/200\n",
      "14333/14333 [==============================] - 6s 424us/step - loss: 0.3457 - acc: 0.8501\n",
      "Epoch 45/200\n",
      "14333/14333 [==============================] - 6s 424us/step - loss: 0.3459 - acc: 0.8497\n",
      "Epoch 46/200\n",
      "14333/14333 [==============================] - 6s 428us/step - loss: 0.3437 - acc: 0.8503\n",
      "Epoch 47/200\n",
      "14333/14333 [==============================] - 6s 429us/step - loss: 0.3498 - acc: 0.8459\n",
      "Epoch 48/200\n",
      "14333/14333 [==============================] - 6s 425us/step - loss: 0.3417 - acc: 0.8530\n",
      "Epoch 49/200\n",
      "14333/14333 [==============================] - 6s 428us/step - loss: 0.3417 - acc: 0.8513\n",
      "Epoch 50/200\n",
      "14333/14333 [==============================] - 6s 423us/step - loss: 0.3442 - acc: 0.8498\n",
      "Epoch 51/200\n",
      "14333/14333 [==============================] - 6s 419us/step - loss: 0.3420 - acc: 0.8503\n",
      "Epoch 52/200\n",
      "14333/14333 [==============================] - 6s 421us/step - loss: 0.3412 - acc: 0.8512\n",
      "Epoch 53/200\n",
      "14333/14333 [==============================] - 6s 423us/step - loss: 0.3454 - acc: 0.8514\n",
      "Epoch 54/200\n",
      "14333/14333 [==============================] - 6s 421us/step - loss: 0.3352 - acc: 0.8545\n",
      "Epoch 55/200\n",
      "14333/14333 [==============================] - 6s 423us/step - loss: 0.3395 - acc: 0.8520\n",
      "Epoch 56/200\n",
      "14333/14333 [==============================] - 6s 421us/step - loss: 0.3385 - acc: 0.8522\n",
      "Epoch 57/200\n",
      "14333/14333 [==============================] - 6s 424us/step - loss: 0.3346 - acc: 0.8568\n",
      "Epoch 58/200\n",
      "14333/14333 [==============================] - 6s 423us/step - loss: 0.3370 - acc: 0.8524\n",
      "Epoch 59/200\n",
      "14333/14333 [==============================] - 6s 424us/step - loss: 0.3398 - acc: 0.8550\n",
      "Epoch 60/200\n",
      "14333/14333 [==============================] - 6s 423us/step - loss: 0.3415 - acc: 0.8494\n",
      "Epoch 61/200\n",
      "14333/14333 [==============================] - 6s 422us/step - loss: 0.3412 - acc: 0.8530\n",
      "Epoch 62/200\n",
      "14333/14333 [==============================] - 6s 423us/step - loss: 0.3334 - acc: 0.8573\n",
      "Epoch 63/200\n",
      "14333/14333 [==============================] - 6s 421us/step - loss: 0.3408 - acc: 0.8540\n",
      "Epoch 64/200\n",
      "14333/14333 [==============================] - 6s 424us/step - loss: 0.3377 - acc: 0.8556\n",
      "Epoch 65/200\n",
      "14333/14333 [==============================] - 6s 421us/step - loss: 0.3328 - acc: 0.8572\n",
      "Epoch 66/200\n",
      "14333/14333 [==============================] - 6s 422us/step - loss: 0.3342 - acc: 0.8573\n",
      "Epoch 67/200\n",
      "14333/14333 [==============================] - 6s 424us/step - loss: 0.3370 - acc: 0.8552\n",
      "Epoch 68/200\n",
      "14333/14333 [==============================] - 6s 421us/step - loss: 0.3339 - acc: 0.8561\n",
      "Epoch 69/200\n",
      "14333/14333 [==============================] - 6s 421us/step - loss: 0.3269 - acc: 0.8596\n",
      "Epoch 70/200\n",
      "14333/14333 [==============================] - 6s 422us/step - loss: 0.3335 - acc: 0.8581\n",
      "Epoch 71/200\n",
      "14333/14333 [==============================] - 6s 423us/step - loss: 0.3354 - acc: 0.8557\n",
      "Epoch 72/200\n",
      "14333/14333 [==============================] - 6s 420us/step - loss: 0.3329 - acc: 0.8558\n",
      "Epoch 73/200\n",
      "14333/14333 [==============================] - 6s 422us/step - loss: 0.3352 - acc: 0.8545\n",
      "Epoch 74/200\n",
      "14333/14333 [==============================] - 6s 420us/step - loss: 0.3287 - acc: 0.8612\n",
      "Epoch 75/200\n",
      "14333/14333 [==============================] - 6s 420us/step - loss: 0.3284 - acc: 0.8592\n",
      "Epoch 76/200\n",
      "14333/14333 [==============================] - 6s 421us/step - loss: 0.3324 - acc: 0.8563\n",
      "Epoch 77/200\n",
      "14333/14333 [==============================] - 6s 422us/step - loss: 0.3285 - acc: 0.8586\n",
      "Epoch 78/200\n"
     ]
    },
    {
     "name": "stdout",
     "output_type": "stream",
     "text": [
      "14333/14333 [==============================] - 6s 400us/step - loss: 0.3258 - acc: 0.8601\n",
      "Epoch 79/200\n",
      "14333/14333 [==============================] - 6s 400us/step - loss: 0.3266 - acc: 0.8595\n",
      "Epoch 80/200\n",
      "14333/14333 [==============================] - 6s 406us/step - loss: 0.3231 - acc: 0.8595\n",
      "Epoch 81/200\n",
      "14333/14333 [==============================] - 6s 411us/step - loss: 0.3267 - acc: 0.8584\n",
      "Epoch 82/200\n",
      "14333/14333 [==============================] - 6s 408us/step - loss: 0.3257 - acc: 0.8597\n",
      "Epoch 83/200\n",
      "14333/14333 [==============================] - 6s 408us/step - loss: 0.3242 - acc: 0.8606\n",
      "Epoch 84/200\n",
      "14333/14333 [==============================] - 6s 407us/step - loss: 0.3241 - acc: 0.8615\n",
      "Epoch 85/200\n",
      "14333/14333 [==============================] - 6s 409us/step - loss: 0.3273 - acc: 0.8573\n",
      "Epoch 86/200\n",
      "14333/14333 [==============================] - 6s 409us/step - loss: 0.3240 - acc: 0.8633\n",
      "Epoch 87/200\n",
      "14333/14333 [==============================] - 6s 410us/step - loss: 0.3248 - acc: 0.8643\n",
      "Epoch 88/200\n",
      "14333/14333 [==============================] - 6s 405us/step - loss: 0.3242 - acc: 0.8592\n",
      "Epoch 89/200\n",
      "14333/14333 [==============================] - 6s 409us/step - loss: 0.3192 - acc: 0.8614\n",
      "Epoch 90/200\n",
      "14333/14333 [==============================] - 6s 408us/step - loss: 0.3239 - acc: 0.8629\n",
      "Epoch 91/200\n",
      "14333/14333 [==============================] - 6s 410us/step - loss: 0.3235 - acc: 0.8626\n",
      "Epoch 92/200\n",
      "14333/14333 [==============================] - 6s 412us/step - loss: 0.3229 - acc: 0.8611\n",
      "Epoch 93/200\n",
      "14333/14333 [==============================] - 6s 407us/step - loss: 0.3244 - acc: 0.8630\n",
      "Epoch 94/200\n",
      "14333/14333 [==============================] - 6s 408us/step - loss: 0.3238 - acc: 0.8597\n",
      "Epoch 95/200\n",
      "14333/14333 [==============================] - 6s 408us/step - loss: 0.3221 - acc: 0.8603\n",
      "Epoch 96/200\n",
      "14333/14333 [==============================] - 6s 409us/step - loss: 0.3194 - acc: 0.8617\n",
      "Epoch 97/200\n",
      "14333/14333 [==============================] - 6s 411us/step - loss: 0.3131 - acc: 0.8665\n",
      "Epoch 98/200\n",
      "14333/14333 [==============================] - 6s 413us/step - loss: 0.3207 - acc: 0.8639\n",
      "Epoch 99/200\n",
      "14333/14333 [==============================] - 6s 405us/step - loss: 0.3178 - acc: 0.8644\n",
      "Epoch 100/200\n",
      "14333/14333 [==============================] - 6s 406us/step - loss: 0.3228 - acc: 0.8596\n",
      "Epoch 101/200\n",
      "14333/14333 [==============================] - 6s 412us/step - loss: 0.3191 - acc: 0.8641\n",
      "Epoch 102/200\n",
      "14333/14333 [==============================] - 6s 404us/step - loss: 0.3195 - acc: 0.8623\n",
      "Epoch 103/200\n",
      "14333/14333 [==============================] - 6s 414us/step - loss: 0.3130 - acc: 0.8662\n",
      "Epoch 104/200\n",
      "14333/14333 [==============================] - 6s 411us/step - loss: 0.3209 - acc: 0.8616\n",
      "Epoch 105/200\n",
      "14333/14333 [==============================] - 6s 414us/step - loss: 0.3144 - acc: 0.8645\n",
      "Epoch 106/200\n",
      "14333/14333 [==============================] - 6s 414us/step - loss: 0.3193 - acc: 0.8616\n",
      "Epoch 107/200\n",
      "14333/14333 [==============================] - 6s 416us/step - loss: 0.3192 - acc: 0.8640\n",
      "Epoch 108/200\n",
      "14333/14333 [==============================] - 6s 416us/step - loss: 0.3139 - acc: 0.8667\n",
      "Epoch 109/200\n",
      "14333/14333 [==============================] - 6s 412us/step - loss: 0.3173 - acc: 0.8659\n",
      "Epoch 110/200\n",
      "14333/14333 [==============================] - 6s 413us/step - loss: 0.3198 - acc: 0.8620\n",
      "Epoch 111/200\n",
      "14333/14333 [==============================] - 6s 414us/step - loss: 0.3147 - acc: 0.8653\n",
      "Epoch 112/200\n",
      "14333/14333 [==============================] - 6s 415us/step - loss: 0.3165 - acc: 0.8642\n",
      "Epoch 113/200\n",
      "14333/14333 [==============================] - 6s 413us/step - loss: 0.3180 - acc: 0.8663\n",
      "Epoch 114/200\n",
      "14333/14333 [==============================] - 6s 419us/step - loss: 0.3203 - acc: 0.8616\n",
      "Epoch 115/200\n",
      "14333/14333 [==============================] - 6s 409us/step - loss: 0.3137 - acc: 0.8656\n",
      "Epoch 116/200\n",
      "14333/14333 [==============================] - 6s 409us/step - loss: 0.3112 - acc: 0.8679\n",
      "Epoch 117/200\n",
      "14333/14333 [==============================] - 6s 412us/step - loss: 0.3160 - acc: 0.8668\n",
      "Epoch 118/200\n",
      "14333/14333 [==============================] - 6s 419us/step - loss: 0.3177 - acc: 0.8630\n",
      "Epoch 119/200\n",
      "14333/14333 [==============================] - 6s 412us/step - loss: 0.3147 - acc: 0.8658\n",
      "Epoch 120/200\n",
      "14333/14333 [==============================] - 6s 416us/step - loss: 0.3070 - acc: 0.8683\n",
      "Epoch 121/200\n",
      "14333/14333 [==============================] - 6s 413us/step - loss: 0.3138 - acc: 0.8640\n",
      "Epoch 122/200\n",
      "14333/14333 [==============================] - 6s 414us/step - loss: 0.3097 - acc: 0.8680\n",
      "Epoch 123/200\n",
      "14333/14333 [==============================] - 6s 411us/step - loss: 0.3105 - acc: 0.8655\n",
      "Epoch 124/200\n",
      "14333/14333 [==============================] - 6s 409us/step - loss: 0.3099 - acc: 0.8683\n",
      "Epoch 125/200\n",
      "14333/14333 [==============================] - 6s 409us/step - loss: 0.3121 - acc: 0.8683\n",
      "Epoch 126/200\n",
      "14333/14333 [==============================] - 6s 407us/step - loss: 0.3132 - acc: 0.8660\n",
      "Epoch 127/200\n",
      "14333/14333 [==============================] - 6s 407us/step - loss: 0.3106 - acc: 0.8659\n",
      "Epoch 128/200\n",
      "14333/14333 [==============================] - 6s 411us/step - loss: 0.3148 - acc: 0.8667\n",
      "Epoch 129/200\n",
      "14333/14333 [==============================] - 6s 408us/step - loss: 0.3076 - acc: 0.8663\n",
      "Epoch 130/200\n",
      "14333/14333 [==============================] - 6s 413us/step - loss: 0.3108 - acc: 0.8646\n",
      "Epoch 131/200\n",
      "14333/14333 [==============================] - 6s 410us/step - loss: 0.3064 - acc: 0.8710\n",
      "Epoch 132/200\n",
      "14333/14333 [==============================] - 6s 405us/step - loss: 0.3097 - acc: 0.8665\n",
      "Epoch 133/200\n",
      "14333/14333 [==============================] - 6s 410us/step - loss: 0.3058 - acc: 0.8709\n",
      "Epoch 134/200\n",
      "14333/14333 [==============================] - 6s 406us/step - loss: 0.3087 - acc: 0.8708\n",
      "Epoch 135/200\n",
      "14333/14333 [==============================] - 6s 420us/step - loss: 0.3108 - acc: 0.8634\n",
      "Epoch 136/200\n",
      "14333/14333 [==============================] - 6s 430us/step - loss: 0.3083 - acc: 0.8690\n",
      "Epoch 137/200\n",
      "14333/14333 [==============================] - 6s 433us/step - loss: 0.3102 - acc: 0.8644\n",
      "Epoch 138/200\n",
      "14333/14333 [==============================] - 6s 420us/step - loss: 0.3064 - acc: 0.8702\n",
      "Epoch 139/200\n",
      "14333/14333 [==============================] - 6s 420us/step - loss: 0.3037 - acc: 0.8693\n",
      "Epoch 140/200\n",
      "14333/14333 [==============================] - 6s 420us/step - loss: 0.3122 - acc: 0.8668\n",
      "Epoch 141/200\n",
      "14333/14333 [==============================] - 6s 419us/step - loss: 0.3088 - acc: 0.8681\n",
      "Epoch 142/200\n",
      "14333/14333 [==============================] - 6s 421us/step - loss: 0.3084 - acc: 0.8693\n",
      "Epoch 143/200\n",
      "14333/14333 [==============================] - 6s 422us/step - loss: 0.3091 - acc: 0.8680\n",
      "Epoch 144/200\n",
      "14333/14333 [==============================] - 6s 422us/step - loss: 0.3063 - acc: 0.8681\n",
      "Epoch 145/200\n",
      "14333/14333 [==============================] - 6s 418us/step - loss: 0.3146 - acc: 0.8667\n",
      "Epoch 146/200\n",
      "14333/14333 [==============================] - 6s 422us/step - loss: 0.3049 - acc: 0.8684\n",
      "Epoch 147/200\n",
      "14333/14333 [==============================] - 6s 421us/step - loss: 0.3069 - acc: 0.8688\n",
      "Epoch 148/200\n",
      "14333/14333 [==============================] - 6s 422us/step - loss: 0.3024 - acc: 0.8712\n",
      "Epoch 149/200\n",
      "14333/14333 [==============================] - 6s 421us/step - loss: 0.3118 - acc: 0.8662\n",
      "Epoch 150/200\n",
      "14333/14333 [==============================] - 6s 422us/step - loss: 0.3065 - acc: 0.8687\n",
      "Epoch 151/200\n",
      "14333/14333 [==============================] - 6s 422us/step - loss: 0.3010 - acc: 0.8734\n",
      "Epoch 152/200\n",
      "14333/14333 [==============================] - 6s 421us/step - loss: 0.3045 - acc: 0.8703\n",
      "Epoch 153/200\n",
      "14333/14333 [==============================] - 6s 420us/step - loss: 0.3036 - acc: 0.8709\n",
      "Epoch 154/200\n",
      "14333/14333 [==============================] - 6s 420us/step - loss: 0.2978 - acc: 0.8721\n",
      "Epoch 155/200\n",
      "14333/14333 [==============================] - 6s 423us/step - loss: 0.3058 - acc: 0.8714\n",
      "Epoch 156/200\n",
      "14333/14333 [==============================] - 6s 423us/step - loss: 0.3012 - acc: 0.8734\n",
      "Epoch 157/200\n"
     ]
    },
    {
     "name": "stdout",
     "output_type": "stream",
     "text": [
      "14333/14333 [==============================] - 6s 400us/step - loss: 0.3063 - acc: 0.8708\n",
      "Epoch 158/200\n",
      "14333/14333 [==============================] - 6s 400us/step - loss: 0.3047 - acc: 0.8723\n",
      "Epoch 159/200\n",
      "14333/14333 [==============================] - 6s 400us/step - loss: 0.3031 - acc: 0.8690\n",
      "Epoch 160/200\n",
      "14333/14333 [==============================] - 6s 399us/step - loss: 0.2990 - acc: 0.8739\n",
      "Epoch 161/200\n",
      "14333/14333 [==============================] - 6s 400us/step - loss: 0.3033 - acc: 0.8683\n",
      "Epoch 162/200\n",
      "14333/14333 [==============================] - 6s 399us/step - loss: 0.3000 - acc: 0.8722\n",
      "Epoch 163/200\n",
      "14333/14333 [==============================] - 6s 401us/step - loss: 0.3001 - acc: 0.8718\n",
      "Epoch 164/200\n",
      "14333/14333 [==============================] - 6s 410us/step - loss: 0.3011 - acc: 0.8746\n",
      "Epoch 165/200\n",
      "14333/14333 [==============================] - 6s 437us/step - loss: 0.3056 - acc: 0.8722\n",
      "Epoch 166/200\n",
      "14333/14333 [==============================] - 6s 425us/step - loss: 0.3012 - acc: 0.8699\n",
      "Epoch 167/200\n",
      "14333/14333 [==============================] - 6s 426us/step - loss: 0.3007 - acc: 0.8727\n",
      "Epoch 168/200\n",
      "14333/14333 [==============================] - 6s 427us/step - loss: 0.3020 - acc: 0.8730\n",
      "Epoch 169/200\n",
      "14333/14333 [==============================] - 6s 406us/step - loss: 0.3010 - acc: 0.8726\n",
      "Epoch 170/200\n",
      "14333/14333 [==============================] - 6s 405us/step - loss: 0.2978 - acc: 0.8740\n",
      "Epoch 171/200\n",
      "14333/14333 [==============================] - 6s 408us/step - loss: 0.3012 - acc: 0.8700\n",
      "Epoch 172/200\n",
      "14333/14333 [==============================] - 6s 399us/step - loss: 0.2995 - acc: 0.8707\n",
      "Epoch 173/200\n",
      "14333/14333 [==============================] - 6s 421us/step - loss: 0.3045 - acc: 0.8694\n",
      "Epoch 174/200\n",
      "14333/14333 [==============================] - 6s 409us/step - loss: 0.2933 - acc: 0.8759\n",
      "Epoch 175/200\n",
      "14333/14333 [==============================] - 6s 401us/step - loss: 0.2945 - acc: 0.8731\n",
      "Epoch 176/200\n",
      "14333/14333 [==============================] - 6s 398us/step - loss: 0.3013 - acc: 0.8710\n",
      "Epoch 177/200\n",
      "14333/14333 [==============================] - 6s 402us/step - loss: 0.3007 - acc: 0.8728\n",
      "Epoch 178/200\n",
      "14333/14333 [==============================] - 6s 401us/step - loss: 0.2965 - acc: 0.8741\n",
      "Epoch 179/200\n",
      "14333/14333 [==============================] - 6s 405us/step - loss: 0.2983 - acc: 0.8755\n",
      "Epoch 180/200\n",
      "14333/14333 [==============================] - 6s 411us/step - loss: 0.2910 - acc: 0.8744\n",
      "Epoch 181/200\n",
      "14333/14333 [==============================] - 6s 400us/step - loss: 0.2978 - acc: 0.8756\n",
      "Epoch 182/200\n",
      "14333/14333 [==============================] - 6s 410us/step - loss: 0.2943 - acc: 0.8738\n",
      "Epoch 183/200\n",
      "14333/14333 [==============================] - 6s 404us/step - loss: 0.3053 - acc: 0.8693\n",
      "Epoch 184/200\n",
      "14333/14333 [==============================] - 6s 403us/step - loss: 0.2953 - acc: 0.8750\n",
      "Epoch 185/200\n",
      "14333/14333 [==============================] - 6s 397us/step - loss: 0.2958 - acc: 0.8737\n",
      "Epoch 186/200\n",
      "14333/14333 [==============================] - 6s 403us/step - loss: 0.3009 - acc: 0.8743\n",
      "Epoch 187/200\n",
      "14333/14333 [==============================] - 6s 397us/step - loss: 0.2985 - acc: 0.8717\n",
      "Epoch 188/200\n",
      "14333/14333 [==============================] - 6s 396us/step - loss: 0.2897 - acc: 0.8778\n",
      "Epoch 189/200\n",
      "14333/14333 [==============================] - 6s 398us/step - loss: 0.2940 - acc: 0.8748\n",
      "Epoch 190/200\n",
      "14333/14333 [==============================] - 6s 397us/step - loss: 0.2972 - acc: 0.8762\n",
      "Epoch 191/200\n",
      "14333/14333 [==============================] - 6s 400us/step - loss: 0.2951 - acc: 0.8753\n",
      "Epoch 192/200\n",
      "14333/14333 [==============================] - 6s 400us/step - loss: 0.2948 - acc: 0.8749\n",
      "Epoch 193/200\n",
      "14333/14333 [==============================] - 6s 401us/step - loss: 0.2898 - acc: 0.8753\n",
      "Epoch 194/200\n",
      "14333/14333 [==============================] - 6s 412us/step - loss: 0.2976 - acc: 0.8739\n",
      "Epoch 195/200\n",
      "14333/14333 [==============================] - 6s 422us/step - loss: 0.3009 - acc: 0.8725\n",
      "Epoch 196/200\n",
      "14333/14333 [==============================] - 6s 416us/step - loss: 0.2953 - acc: 0.8750\n",
      "Epoch 197/200\n",
      "14333/14333 [==============================] - 6s 415us/step - loss: 0.2938 - acc: 0.8734\n",
      "Epoch 198/200\n",
      "14333/14333 [==============================] - 6s 434us/step - loss: 0.2968 - acc: 0.8732\n",
      "Epoch 199/200\n",
      "14333/14333 [==============================] - 6s 398us/step - loss: 0.2940 - acc: 0.8757\n",
      "Epoch 200/200\n",
      "14333/14333 [==============================] - 6s 396us/step - loss: 0.2995 - acc: 0.8724\n"
     ]
    },
    {
     "data": {
      "text/plain": [
       "<keras.callbacks.History at 0x7fce2d3ea4a8>"
      ]
     },
     "execution_count": 14,
     "metadata": {},
     "output_type": "execute_result"
    }
   ],
   "source": [
    "model.fit(X_train, Y_train, batch_size = 64, epochs=200)"
   ]
  },
  {
   "cell_type": "code",
   "execution_count": 15,
   "metadata": {},
   "outputs": [],
   "source": [
    "model_json = model.to_json()\n",
    "with open (\"LSTMModel.json\", \"w\") as json_file:\n",
    "    json_file.write(model_json)\n",
    "model.save_weights(\"LSTMModel.h5\")"
   ]
  },
  {
   "cell_type": "code",
   "execution_count": 16,
   "metadata": {},
   "outputs": [
    {
     "name": "stdout",
     "output_type": "stream",
     "text": [
      "4778/4778 [==============================] - 1s 167us/step\n",
      "Validation set accuracy =  0.7838007534533278\n"
     ]
    }
   ],
   "source": [
    "loss, acc = model.evaluate(X_test, Y_test)\n",
    "print(\"Validation set accuracy = \", acc)"
   ]
  },
  {
   "cell_type": "code",
   "execution_count": 17,
   "metadata": {},
   "outputs": [
    {
     "name": "stdout",
     "output_type": "stream",
     "text": [
      "4778/4778 [==============================] - 1s 153us/step\n",
      "             precision    recall  f1-score   support\n",
      "\n",
      "          0       0.81      0.80      0.81      2694\n",
      "          1       0.75      0.76      0.75      2084\n",
      "\n",
      "avg / total       0.78      0.78      0.78      4778\n",
      "\n"
     ]
    }
   ],
   "source": [
    "from sklearn.metrics import classification_report\n",
    "\n",
    "pred = model.predict(X_test, batch_size=32, verbose=1)\n",
    "predicted = np.argmax(pred, axis=1)\n",
    "report = classification_report(np.argmax(Y_test, axis=1), predicted)\n",
    "print(report)"
   ]
  },
  {
   "cell_type": "code",
   "execution_count": null,
   "metadata": {},
   "outputs": [],
   "source": []
  }
 ],
 "metadata": {
  "kernelspec": {
   "display_name": "TensorFlow",
   "language": "python",
   "name": "tensorflow"
  },
  "language_info": {
   "codemirror_mode": {
    "name": "ipython",
    "version": 3
   },
   "file_extension": ".py",
   "mimetype": "text/x-python",
   "name": "python",
   "nbconvert_exporter": "python",
   "pygments_lexer": "ipython3",
   "version": "3.6.4"
  }
 },
 "nbformat": 4,
 "nbformat_minor": 2
}

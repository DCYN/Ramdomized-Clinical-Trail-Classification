{
 "cells": [
  {
   "cell_type": "markdown",
   "metadata": {},
   "source": [
    "# Summary:\n",
    "- Imbalanced sampling (SMOTE) is applied.\n",
    "- 1D Cov + two layers of LSTM is tested.\n"
   ]
  },
  {
   "cell_type": "code",
   "execution_count": 1,
   "metadata": {},
   "outputs": [
    {
     "name": "stderr",
     "output_type": "stream",
     "text": [
      "/home/dc/anaconda3/envs/tensorflow/lib/python3.6/site-packages/h5py/__init__.py:36: FutureWarning: Conversion of the second argument of issubdtype from `float` to `np.floating` is deprecated. In future, it will be treated as `np.float64 == np.dtype(float).type`.\n",
      "  from ._conv import register_converters as _register_converters\n",
      "Using TensorFlow backend.\n"
     ]
    },
    {
     "name": "stdout",
     "output_type": "stream",
     "text": [
      "Populating the interactive namespace from numpy and matplotlib\n"
     ]
    }
   ],
   "source": [
    "import pickle\n",
    "\n",
    "from sklearn.metrics import confusion_matrix\n",
    "from sklearn.metrics import classification_report\n",
    "from sklearn.model_selection import GridSearchCV, train_test_split\n",
    "from imblearn.over_sampling import SMOTE, ADASYN\n",
    "\n",
    "import numpy as np\n",
    "from keras.models import Model\n",
    "from keras.layers.embeddings import Embedding\n",
    "from keras.preprocessing import sequence\n",
    "from keras.initializers import glorot_uniform\n",
    "\n",
    "from keras.callbacks import ModelCheckpoint\n",
    "from keras.models import Model, load_model, Sequential\n",
    "from keras.layers import Dense, Activation, Dropout, Input, Masking, TimeDistributed, LSTM, Conv1D\n",
    "from keras.layers import GRU, Bidirectional, BatchNormalization, Reshape\n",
    "from keras.optimizers import Adam\n",
    "np.random.seed(1)\n",
    "\n",
    "%pylab inline\n",
    "warnings.filterwarnings(\"ignore\")"
   ]
  },
  {
   "cell_type": "markdown",
   "metadata": {},
   "source": [
    "# 1. Data Preparation"
   ]
  },
  {
   "cell_type": "code",
   "execution_count": 2,
   "metadata": {},
   "outputs": [],
   "source": [
    "p_file = 'RCT_Vectors'\n",
    "with open(p_file, 'rb') as fin:\n",
    "    vectors = pickle.load(fin)"
   ]
  },
  {
   "cell_type": "code",
   "execution_count": 3,
   "metadata": {},
   "outputs": [],
   "source": [
    "p_file = 'RCT_labels'\n",
    "with open(p_file, 'rb') as fin:\n",
    "    data_Y = pickle.load(fin)"
   ]
  },
  {
   "cell_type": "code",
   "execution_count": 4,
   "metadata": {},
   "outputs": [],
   "source": [
    "# Use SMOTE oversampling to generate more training data\n",
    "X_resampled, y_resampled = SMOTE().fit_sample(vectors, data_Y)"
   ]
  },
  {
   "cell_type": "code",
   "execution_count": 5,
   "metadata": {},
   "outputs": [],
   "source": [
    "d2v_X_train, d2v_X_test, d2v_Y_train, d2v_Y_test = train_test_split(X_resampled, y_resampled, test_size=0.25)"
   ]
  },
  {
   "cell_type": "code",
   "execution_count": 6,
   "metadata": {},
   "outputs": [],
   "source": [
    "X_train_array = np.array(d2v_X_train)\n",
    "Y_train_array = np.array(d2v_Y_train)\n",
    "X_test_array = np.array(d2v_X_test)\n",
    "Y_test_array = np.array(d2v_Y_test)"
   ]
  },
  {
   "cell_type": "code",
   "execution_count": 7,
   "metadata": {},
   "outputs": [
    {
     "data": {
      "text/plain": [
       "((12883, 1024), (12883,), (4295, 1024), (4295,), 10216)"
      ]
     },
     "execution_count": 7,
     "metadata": {},
     "output_type": "execute_result"
    }
   ],
   "source": [
    "# double check whether oversampling works\n",
    "X_train_array.shape, Y_train_array.shape, X_test_array.shape, Y_test_array.shape, len(vectors)"
   ]
  },
  {
   "cell_type": "code",
   "execution_count": 8,
   "metadata": {},
   "outputs": [],
   "source": [
    "xtr, xt = X_train_array.shape, X_test_array.shape"
   ]
  },
  {
   "cell_type": "code",
   "execution_count": 9,
   "metadata": {},
   "outputs": [],
   "source": [
    "# reshape dataset\n",
    "X_train = X_train_array.reshape(xtr[0],32,32) \n",
    "Y_train = np.eye(2)[Y_train_array.astype(int)] \n",
    "X_test = X_test_array.reshape(xt[0],32,32) \n",
    "Y_test = np.eye(2)[Y_test_array.astype(int)] "
   ]
  },
  {
   "cell_type": "markdown",
   "metadata": {},
   "source": [
    "# 2. LSTM"
   ]
  },
  {
   "cell_type": "code",
   "execution_count": 10,
   "metadata": {},
   "outputs": [],
   "source": [
    "def model(input_shape):\n",
    "    \n",
    "    X_input = Input(shape = input_shape)\n",
    "    \n",
    "    # Cov layer\n",
    "    X = Conv1D(filters=768, kernel_size=15, strides=4)(X_input)                                 # CONV1D\n",
    "    X = BatchNormalization()(X)                                 # Batch normalization\n",
    "    X = Activation('relu')(X)                                 # ReLu activation\n",
    "    X = Dropout(0.6)(X)                                 # dropout\n",
    "    \n",
    "    # LSTM layer 1\n",
    "    X = LSTM(512, return_sequences=True)(X)\n",
    "    X = Dropout(0.5)(X)\n",
    "    \n",
    "    # LSTM layer 2 \n",
    "    X = LSTM(512)(X)\n",
    "    X = Dropout(0.5)(X)\n",
    "    \n",
    "    X = Dense(2)(X)  \n",
    "    # Softmax layer\n",
    "    X = Activation('softmax')(X)\n",
    "    \n",
    "    # Create Model instance\n",
    "    model = Model(inputs = X_input, outputs = X)\n",
    "        \n",
    "    return model"
   ]
  },
  {
   "cell_type": "code",
   "execution_count": 11,
   "metadata": {},
   "outputs": [
    {
     "name": "stdout",
     "output_type": "stream",
     "text": [
      "WARNING:tensorflow:From /home/dc/anaconda3/envs/tensorflow/lib/python3.6/site-packages/tensorflow/python/util/deprecation.py:497: calling conv1d (from tensorflow.python.ops.nn_ops) with data_format=NHWC is deprecated and will be removed in a future version.\n",
      "Instructions for updating:\n",
      "`NHWC` for data_format is deprecated, use `NWC` instead\n"
     ]
    }
   ],
   "source": [
    "model = model(input_shape = (32,32))"
   ]
  },
  {
   "cell_type": "code",
   "execution_count": 12,
   "metadata": {},
   "outputs": [
    {
     "name": "stdout",
     "output_type": "stream",
     "text": [
      "_________________________________________________________________\n",
      "Layer (type)                 Output Shape              Param #   \n",
      "=================================================================\n",
      "input_1 (InputLayer)         (None, 32, 32)            0         \n",
      "_________________________________________________________________\n",
      "conv1d_1 (Conv1D)            (None, 5, 768)            369408    \n",
      "_________________________________________________________________\n",
      "batch_normalization_1 (Batch (None, 5, 768)            3072      \n",
      "_________________________________________________________________\n",
      "activation_1 (Activation)    (None, 5, 768)            0         \n",
      "_________________________________________________________________\n",
      "dropout_1 (Dropout)          (None, 5, 768)            0         \n",
      "_________________________________________________________________\n",
      "lstm_1 (LSTM)                (None, 5, 512)            2623488   \n",
      "_________________________________________________________________\n",
      "dropout_2 (Dropout)          (None, 5, 512)            0         \n",
      "_________________________________________________________________\n",
      "lstm_2 (LSTM)                (None, 512)               2099200   \n",
      "_________________________________________________________________\n",
      "dropout_3 (Dropout)          (None, 512)               0         \n",
      "_________________________________________________________________\n",
      "dense_1 (Dense)              (None, 2)                 1026      \n",
      "_________________________________________________________________\n",
      "activation_2 (Activation)    (None, 2)                 0         \n",
      "=================================================================\n",
      "Total params: 5,096,194\n",
      "Trainable params: 5,094,658\n",
      "Non-trainable params: 1,536\n",
      "_________________________________________________________________\n"
     ]
    }
   ],
   "source": [
    "model.summary()"
   ]
  },
  {
   "cell_type": "code",
   "execution_count": 13,
   "metadata": {},
   "outputs": [],
   "source": [
    "opt = Adam(lr=0.003, beta_1=0.9, beta_2=0.999, decay=0.01)\n",
    "model.compile(loss='binary_crossentropy', optimizer=opt, metrics=[\"accuracy\"])"
   ]
  },
  {
   "cell_type": "code",
   "execution_count": 14,
   "metadata": {
    "scrolled": true
   },
   "outputs": [
    {
     "name": "stdout",
     "output_type": "stream",
     "text": [
      "WARNING:tensorflow:Variable *= will be deprecated. Use variable.assign_mul if you want assignment to the variable value or 'x = x * y' if you want a new python Tensor object.\n",
      "Epoch 1/100\n",
      "12883/12883 [==============================] - 7s 561us/step - loss: 0.4807 - acc: 0.7815\n",
      "Epoch 2/100\n",
      "12883/12883 [==============================] - 5s 422us/step - loss: 0.3439 - acc: 0.8602\n",
      "Epoch 3/100\n",
      "12883/12883 [==============================] - 5s 424us/step - loss: 0.2628 - acc: 0.8978\n",
      "Epoch 4/100\n",
      "12883/12883 [==============================] - 5s 422us/step - loss: 0.2068 - acc: 0.9207\n",
      "Epoch 5/100\n",
      "12883/12883 [==============================] - 5s 419us/step - loss: 0.1611 - acc: 0.9389\n",
      "Epoch 6/100\n",
      "12883/12883 [==============================] - 5s 422us/step - loss: 0.1274 - acc: 0.9535\n",
      "Epoch 7/100\n",
      "12883/12883 [==============================] - 5s 422us/step - loss: 0.0961 - acc: 0.9661\n",
      "Epoch 8/100\n",
      "12883/12883 [==============================] - 5s 423us/step - loss: 0.0822 - acc: 0.9719\n",
      "Epoch 9/100\n",
      "12883/12883 [==============================] - 5s 423us/step - loss: 0.0698 - acc: 0.9759\n",
      "Epoch 10/100\n",
      "12883/12883 [==============================] - 5s 425us/step - loss: 0.0631 - acc: 0.9772\n",
      "Epoch 11/100\n",
      "12883/12883 [==============================] - 5s 423us/step - loss: 0.0529 - acc: 0.9819\n",
      "Epoch 12/100\n",
      "12883/12883 [==============================] - 5s 426us/step - loss: 0.0396 - acc: 0.9860\n",
      "Epoch 13/100\n",
      "12883/12883 [==============================] - 5s 426us/step - loss: 0.0421 - acc: 0.9854\n",
      "Epoch 14/100\n",
      "12883/12883 [==============================] - 5s 425us/step - loss: 0.0390 - acc: 0.9855\n",
      "Epoch 15/100\n",
      "12883/12883 [==============================] - 5s 425us/step - loss: 0.0341 - acc: 0.9879\n",
      "Epoch 16/100\n",
      "12883/12883 [==============================] - 5s 425us/step - loss: 0.0360 - acc: 0.9877\n",
      "Epoch 17/100\n",
      "12883/12883 [==============================] - 6s 428us/step - loss: 0.0334 - acc: 0.9880\n",
      "Epoch 18/100\n",
      "12883/12883 [==============================] - 5s 426us/step - loss: 0.0288 - acc: 0.9889\n",
      "Epoch 19/100\n",
      "12883/12883 [==============================] - 6s 428us/step - loss: 0.0245 - acc: 0.9913\n",
      "Epoch 20/100\n",
      "12883/12883 [==============================] - 6s 429us/step - loss: 0.0256 - acc: 0.9902\n",
      "Epoch 21/100\n",
      "12883/12883 [==============================] - 5s 427us/step - loss: 0.0213 - acc: 0.9924\n",
      "Epoch 22/100\n",
      "12883/12883 [==============================] - 6s 430us/step - loss: 0.0216 - acc: 0.9918\n",
      "Epoch 23/100\n",
      "12883/12883 [==============================] - 6s 430us/step - loss: 0.0194 - acc: 0.9933\n",
      "Epoch 24/100\n",
      "12883/12883 [==============================] - 6s 429us/step - loss: 0.0236 - acc: 0.9913\n",
      "Epoch 25/100\n",
      "12883/12883 [==============================] - 6s 428us/step - loss: 0.0180 - acc: 0.9940\n",
      "Epoch 26/100\n",
      "12883/12883 [==============================] - 6s 429us/step - loss: 0.0177 - acc: 0.9939\n",
      "Epoch 27/100\n",
      "12883/12883 [==============================] - 6s 431us/step - loss: 0.0175 - acc: 0.9931\n",
      "Epoch 28/100\n",
      "12883/12883 [==============================] - 6s 430us/step - loss: 0.0154 - acc: 0.9949\n",
      "Epoch 29/100\n",
      "12883/12883 [==============================] - 6s 429us/step - loss: 0.0164 - acc: 0.9941\n",
      "Epoch 30/100\n",
      "12883/12883 [==============================] - 6s 429us/step - loss: 0.0165 - acc: 0.9939\n",
      "Epoch 31/100\n",
      "12883/12883 [==============================] - 6s 429us/step - loss: 0.0161 - acc: 0.9943\n",
      "Epoch 32/100\n",
      "12883/12883 [==============================] - 6s 432us/step - loss: 0.0147 - acc: 0.9947\n",
      "Epoch 33/100\n",
      "12883/12883 [==============================] - 6s 430us/step - loss: 0.0193 - acc: 0.9922\n",
      "Epoch 34/100\n",
      "12883/12883 [==============================] - 6s 432us/step - loss: 0.0181 - acc: 0.9939\n",
      "Epoch 35/100\n",
      "12883/12883 [==============================] - 6s 429us/step - loss: 0.0131 - acc: 0.9960\n",
      "Epoch 36/100\n",
      "12883/12883 [==============================] - 6s 429us/step - loss: 0.0148 - acc: 0.9951\n",
      "Epoch 37/100\n",
      "12883/12883 [==============================] - 6s 428us/step - loss: 0.0134 - acc: 0.9955\n",
      "Epoch 38/100\n",
      "12883/12883 [==============================] - 6s 428us/step - loss: 0.0126 - acc: 0.9954\n",
      "Epoch 39/100\n",
      "12883/12883 [==============================] - 5s 426us/step - loss: 0.0123 - acc: 0.9955\n",
      "Epoch 40/100\n",
      "12883/12883 [==============================] - 5s 426us/step - loss: 0.0137 - acc: 0.9952\n",
      "Epoch 41/100\n",
      "12883/12883 [==============================] - 5s 426us/step - loss: 0.0110 - acc: 0.9969\n",
      "Epoch 42/100\n",
      "12883/12883 [==============================] - 5s 424us/step - loss: 0.0097 - acc: 0.9961\n",
      "Epoch 43/100\n",
      "12883/12883 [==============================] - 5s 426us/step - loss: 0.0105 - acc: 0.9962\n",
      "Epoch 44/100\n",
      "12883/12883 [==============================] - 5s 426us/step - loss: 0.0109 - acc: 0.9960\n",
      "Epoch 45/100\n",
      "12883/12883 [==============================] - 5s 426us/step - loss: 0.0105 - acc: 0.9963\n",
      "Epoch 46/100\n",
      "12883/12883 [==============================] - 5s 423us/step - loss: 0.0120 - acc: 0.9954\n",
      "Epoch 47/100\n",
      "12883/12883 [==============================] - 5s 423us/step - loss: 0.0115 - acc: 0.9960\n",
      "Epoch 48/100\n",
      "12883/12883 [==============================] - 5s 422us/step - loss: 0.0121 - acc: 0.9957\n",
      "Epoch 49/100\n",
      "12883/12883 [==============================] - 5s 423us/step - loss: 0.0125 - acc: 0.9958\n",
      "Epoch 50/100\n",
      "12883/12883 [==============================] - 5s 422us/step - loss: 0.0120 - acc: 0.9959\n",
      "Epoch 51/100\n",
      "12883/12883 [==============================] - 5s 422us/step - loss: 0.0100 - acc: 0.9968\n",
      "Epoch 52/100\n",
      "12883/12883 [==============================] - 5s 425us/step - loss: 0.0084 - acc: 0.9971\n",
      "Epoch 53/100\n",
      "12883/12883 [==============================] - 5s 424us/step - loss: 0.0094 - acc: 0.9971\n",
      "Epoch 54/100\n",
      "12883/12883 [==============================] - 6s 430us/step - loss: 0.0093 - acc: 0.9966\n",
      "Epoch 55/100\n",
      "12883/12883 [==============================] - 6s 434us/step - loss: 0.0096 - acc: 0.9965\n",
      "Epoch 56/100\n",
      "12883/12883 [==============================] - 5s 423us/step - loss: 0.0090 - acc: 0.9971\n",
      "Epoch 57/100\n",
      "12883/12883 [==============================] - 5s 420us/step - loss: 0.0083 - acc: 0.9974\n",
      "Epoch 58/100\n",
      "12883/12883 [==============================] - 5s 422us/step - loss: 0.0084 - acc: 0.9968\n",
      "Epoch 59/100\n",
      "12883/12883 [==============================] - 5s 421us/step - loss: 0.0088 - acc: 0.9965\n",
      "Epoch 60/100\n",
      "12883/12883 [==============================] - 5s 420us/step - loss: 0.0068 - acc: 0.9977\n",
      "Epoch 61/100\n",
      "12883/12883 [==============================] - 5s 421us/step - loss: 0.0112 - acc: 0.9963\n",
      "Epoch 62/100\n",
      "12883/12883 [==============================] - 5s 420us/step - loss: 0.0081 - acc: 0.9977\n",
      "Epoch 63/100\n",
      "12883/12883 [==============================] - 5s 420us/step - loss: 0.0062 - acc: 0.9982\n",
      "Epoch 64/100\n",
      "12883/12883 [==============================] - 5s 422us/step - loss: 0.0085 - acc: 0.9961\n",
      "Epoch 65/100\n",
      "12883/12883 [==============================] - 5s 420us/step - loss: 0.0065 - acc: 0.9977\n",
      "Epoch 66/100\n",
      "12883/12883 [==============================] - 5s 419us/step - loss: 0.0068 - acc: 0.9978\n",
      "Epoch 67/100\n",
      "12883/12883 [==============================] - 5s 419us/step - loss: 0.0100 - acc: 0.9967\n",
      "Epoch 68/100\n",
      "12883/12883 [==============================] - 5s 421us/step - loss: 0.0089 - acc: 0.9964\n",
      "Epoch 69/100\n",
      "12883/12883 [==============================] - 5s 420us/step - loss: 0.0094 - acc: 0.9964\n",
      "Epoch 70/100\n",
      "12883/12883 [==============================] - 5s 419us/step - loss: 0.0078 - acc: 0.9972\n",
      "Epoch 71/100\n",
      "12883/12883 [==============================] - 5s 424us/step - loss: 0.0080 - acc: 0.9974\n",
      "Epoch 72/100\n",
      "12883/12883 [==============================] - 6s 435us/step - loss: 0.0070 - acc: 0.9974\n",
      "Epoch 73/100\n",
      "12883/12883 [==============================] - 6s 433us/step - loss: 0.0104 - acc: 0.9964\n",
      "Epoch 74/100\n",
      "12883/12883 [==============================] - 6s 435us/step - loss: 0.0070 - acc: 0.9975\n",
      "Epoch 75/100\n",
      "12883/12883 [==============================] - 6s 430us/step - loss: 0.0065 - acc: 0.9976\n",
      "Epoch 76/100\n",
      "12883/12883 [==============================] - 6s 431us/step - loss: 0.0079 - acc: 0.9974\n",
      "Epoch 77/100\n",
      "12883/12883 [==============================] - 6s 432us/step - loss: 0.0097 - acc: 0.9969\n",
      "Epoch 78/100\n"
     ]
    },
    {
     "name": "stdout",
     "output_type": "stream",
     "text": [
      "12883/12883 [==============================] - 5s 409us/step - loss: 0.0049 - acc: 0.9983\n",
      "Epoch 79/100\n",
      "12883/12883 [==============================] - 5s 407us/step - loss: 0.0060 - acc: 0.9974\n",
      "Epoch 80/100\n",
      "12883/12883 [==============================] - 5s 409us/step - loss: 0.0067 - acc: 0.9977\n",
      "Epoch 81/100\n",
      "12883/12883 [==============================] - 5s 409us/step - loss: 0.0063 - acc: 0.9976\n",
      "Epoch 82/100\n",
      "12883/12883 [==============================] - 5s 409us/step - loss: 0.0067 - acc: 0.9974\n",
      "Epoch 83/100\n",
      "12883/12883 [==============================] - 5s 410us/step - loss: 0.0070 - acc: 0.9977\n",
      "Epoch 84/100\n",
      "12883/12883 [==============================] - 5s 409us/step - loss: 0.0041 - acc: 0.9988\n",
      "Epoch 85/100\n",
      "12883/12883 [==============================] - 5s 409us/step - loss: 0.0049 - acc: 0.9980\n",
      "Epoch 86/100\n",
      "12883/12883 [==============================] - 5s 409us/step - loss: 0.0039 - acc: 0.9987\n",
      "Epoch 87/100\n",
      "12883/12883 [==============================] - 5s 409us/step - loss: 0.0056 - acc: 0.9984\n",
      "Epoch 88/100\n",
      "12883/12883 [==============================] - 5s 410us/step - loss: 0.0065 - acc: 0.9974\n",
      "Epoch 89/100\n",
      "12883/12883 [==============================] - 5s 409us/step - loss: 0.0065 - acc: 0.9976\n",
      "Epoch 90/100\n",
      "12883/12883 [==============================] - 5s 411us/step - loss: 0.0061 - acc: 0.9978\n",
      "Epoch 91/100\n",
      "12883/12883 [==============================] - 5s 408us/step - loss: 0.0056 - acc: 0.9979\n",
      "Epoch 92/100\n",
      "12883/12883 [==============================] - 5s 409us/step - loss: 0.0057 - acc: 0.9981\n",
      "Epoch 93/100\n",
      "12883/12883 [==============================] - 5s 409us/step - loss: 0.0070 - acc: 0.9976\n",
      "Epoch 94/100\n",
      "12883/12883 [==============================] - 5s 409us/step - loss: 0.0057 - acc: 0.9981\n",
      "Epoch 95/100\n",
      "12883/12883 [==============================] - 5s 409us/step - loss: 0.0040 - acc: 0.9985\n",
      "Epoch 96/100\n",
      "12883/12883 [==============================] - 5s 410us/step - loss: 0.0069 - acc: 0.9976\n",
      "Epoch 97/100\n",
      "12883/12883 [==============================] - 5s 409us/step - loss: 0.0055 - acc: 0.9978\n",
      "Epoch 98/100\n",
      "12883/12883 [==============================] - 5s 410us/step - loss: 0.0072 - acc: 0.9978\n",
      "Epoch 99/100\n",
      "12883/12883 [==============================] - 5s 410us/step - loss: 0.0062 - acc: 0.9983\n",
      "Epoch 100/100\n",
      "12883/12883 [==============================] - 5s 409us/step - loss: 0.0073 - acc: 0.9970\n"
     ]
    },
    {
     "data": {
      "text/plain": [
       "<keras.callbacks.History at 0x7f663c0250b8>"
      ]
     },
     "execution_count": 14,
     "metadata": {},
     "output_type": "execute_result"
    }
   ],
   "source": [
    "model.fit(X_train, Y_train, batch_size = 64, epochs=100)"
   ]
  },
  {
   "cell_type": "code",
   "execution_count": 15,
   "metadata": {},
   "outputs": [
    {
     "name": "stdout",
     "output_type": "stream",
     "text": [
      "4295/4295 [==============================] - 1s 186us/step\n",
      "Validation set accuracy =  0.9336437718277066\n"
     ]
    }
   ],
   "source": [
    "loss, acc = model.evaluate(X_test, Y_test)\n",
    "print(\"Validation set accuracy = \", acc)"
   ]
  }
 ],
 "metadata": {
  "kernelspec": {
   "display_name": "TensorFlow",
   "language": "python",
   "name": "tensorflow"
  },
  "language_info": {
   "codemirror_mode": {
    "name": "ipython",
    "version": 3
   },
   "file_extension": ".py",
   "mimetype": "text/x-python",
   "name": "python",
   "nbconvert_exporter": "python",
   "pygments_lexer": "ipython3",
   "version": "3.6.4"
  }
 },
 "nbformat": 4,
 "nbformat_minor": 2
}

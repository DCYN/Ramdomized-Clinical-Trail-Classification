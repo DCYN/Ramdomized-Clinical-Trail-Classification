{
 "cells": [
  {
   "cell_type": "markdown",
   "metadata": {},
   "source": [
    "# Summary:\n",
    "- No SMOTE\n",
    "- Based on the 32x32x3 vectors\n",
    "- 1D Cov + two layers of LSTM is tested\n",
    "    - Validation set accuracy =  0.8576810380663019\n"
   ]
  },
  {
   "cell_type": "code",
   "execution_count": 1,
   "metadata": {},
   "outputs": [
    {
     "name": "stderr",
     "output_type": "stream",
     "text": [
      "/home/dc/anaconda3/envs/tensorflow/lib/python3.6/site-packages/h5py/__init__.py:36: FutureWarning: Conversion of the second argument of issubdtype from `float` to `np.floating` is deprecated. In future, it will be treated as `np.float64 == np.dtype(float).type`.\n",
      "  from ._conv import register_converters as _register_converters\n",
      "Using TensorFlow backend.\n"
     ]
    },
    {
     "name": "stdout",
     "output_type": "stream",
     "text": [
      "Populating the interactive namespace from numpy and matplotlib\n"
     ]
    }
   ],
   "source": [
    "import pickle\n",
    "\n",
    "from sklearn.metrics import confusion_matrix\n",
    "from sklearn.metrics import classification_report\n",
    "from sklearn.model_selection import GridSearchCV, train_test_split\n",
    "from imblearn.over_sampling import SMOTE, ADASYN\n",
    "\n",
    "import numpy as np\n",
    "from keras.models import Model\n",
    "from keras.layers.embeddings import Embedding\n",
    "from keras.preprocessing import sequence\n",
    "from keras.initializers import glorot_uniform\n",
    "\n",
    "from keras.callbacks import ModelCheckpoint\n",
    "from keras.models import Model, load_model, Sequential\n",
    "from keras.layers import Dense, Activation, Dropout, Input, Masking, TimeDistributed, LSTM, Conv1D\n",
    "from keras.layers import GRU, Bidirectional, BatchNormalization, Reshape\n",
    "from keras.optimizers import Adam\n",
    "np.random.seed(1)\n",
    "\n",
    "%pylab inline\n",
    "warnings.filterwarnings(\"ignore\")"
   ]
  },
  {
   "cell_type": "markdown",
   "metadata": {},
   "source": [
    "# 1. Data Preparation"
   ]
  },
  {
   "cell_type": "code",
   "execution_count": 2,
   "metadata": {},
   "outputs": [],
   "source": [
    "p_file = 'RCT_Vectors'\n",
    "with open(p_file, 'rb') as fin:\n",
    "    vectors = pickle.load(fin)"
   ]
  },
  {
   "cell_type": "code",
   "execution_count": 3,
   "metadata": {},
   "outputs": [],
   "source": [
    "p_file = 'RCT_labels'\n",
    "with open(p_file, 'rb') as fin:\n",
    "    data_Y = pickle.load(fin)"
   ]
  },
  {
   "cell_type": "code",
   "execution_count": 4,
   "metadata": {},
   "outputs": [],
   "source": [
    "d2v_X_train, d2v_X_test, d2v_Y_train, d2v_Y_test = train_test_split(vectors, data_Y, test_size=0.25)"
   ]
  },
  {
   "cell_type": "code",
   "execution_count": 5,
   "metadata": {},
   "outputs": [],
   "source": [
    "X_train_array = np.array(d2v_X_train)\n",
    "Y_train_array = np.array(d2v_Y_train)\n",
    "X_test_array = np.array(d2v_X_test)\n",
    "Y_test_array = np.array(d2v_Y_test)"
   ]
  },
  {
   "cell_type": "code",
   "execution_count": 6,
   "metadata": {},
   "outputs": [
    {
     "data": {
      "text/plain": [
       "((14333, 3072), (14333,), (4778, 3072), (4778,), 19111)"
      ]
     },
     "execution_count": 6,
     "metadata": {},
     "output_type": "execute_result"
    }
   ],
   "source": [
    "# double check whether oversampling works\n",
    "X_train_array.shape, Y_train_array.shape, X_test_array.shape, Y_test_array.shape, len(vectors)"
   ]
  },
  {
   "cell_type": "code",
   "execution_count": 7,
   "metadata": {},
   "outputs": [],
   "source": [
    "xtr, xt = X_train_array.shape, X_test_array.shape"
   ]
  },
  {
   "cell_type": "code",
   "execution_count": 8,
   "metadata": {},
   "outputs": [],
   "source": [
    "# reshape dataset\n",
    "X_train = X_train_array.reshape(xtr[0],96,32) \n",
    "Y_train = np.eye(2)[Y_train_array.astype(int)] \n",
    "X_test = X_test_array.reshape(xt[0],96,32) \n",
    "Y_test = np.eye(2)[Y_test_array.astype(int)] "
   ]
  },
  {
   "cell_type": "markdown",
   "metadata": {},
   "source": [
    "# 2. LSTM"
   ]
  },
  {
   "cell_type": "code",
   "execution_count": 9,
   "metadata": {},
   "outputs": [],
   "source": [
    "def model(input_shape):\n",
    "    \n",
    "    X_input = Input(shape = input_shape)\n",
    "    \n",
    "    # Cov layer\n",
    "    X = Conv1D(filters=768, kernel_size=15, strides=4)(X_input)                                 # CONV1D\n",
    "    X = BatchNormalization()(X)                                 # Batch normalization\n",
    "    X = Activation('relu')(X)                                 # ReLu activation\n",
    "    X = Dropout(0.6)(X)                                 # dropout\n",
    "    \n",
    "    # LSTM layer 1\n",
    "    X = LSTM(512, return_sequences=True)(X)\n",
    "    X = Dropout(0.5)(X)\n",
    "    \n",
    "    # LSTM layer 2 \n",
    "    X = LSTM(512)(X)\n",
    "    X = Dropout(0.5)(X)\n",
    "    \n",
    "    X = Dense(2)(X)  \n",
    "    # Softmax layer\n",
    "    X = Activation('softmax')(X)\n",
    "    \n",
    "    # Create Model instance\n",
    "    model = Model(inputs = X_input, outputs = X)\n",
    "        \n",
    "    return model"
   ]
  },
  {
   "cell_type": "code",
   "execution_count": 10,
   "metadata": {},
   "outputs": [],
   "source": [
    "model = model(input_shape = (96,32))"
   ]
  },
  {
   "cell_type": "code",
   "execution_count": 11,
   "metadata": {},
   "outputs": [
    {
     "name": "stdout",
     "output_type": "stream",
     "text": [
      "_________________________________________________________________\n",
      "Layer (type)                 Output Shape              Param #   \n",
      "=================================================================\n",
      "input_1 (InputLayer)         (None, 96, 32)            0         \n",
      "_________________________________________________________________\n",
      "conv1d_1 (Conv1D)            (None, 21, 768)           369408    \n",
      "_________________________________________________________________\n",
      "batch_normalization_1 (Batch (None, 21, 768)           3072      \n",
      "_________________________________________________________________\n",
      "activation_1 (Activation)    (None, 21, 768)           0         \n",
      "_________________________________________________________________\n",
      "dropout_1 (Dropout)          (None, 21, 768)           0         \n",
      "_________________________________________________________________\n",
      "lstm_1 (LSTM)                (None, 21, 512)           2623488   \n",
      "_________________________________________________________________\n",
      "dropout_2 (Dropout)          (None, 21, 512)           0         \n",
      "_________________________________________________________________\n",
      "lstm_2 (LSTM)                (None, 512)               2099200   \n",
      "_________________________________________________________________\n",
      "dropout_3 (Dropout)          (None, 512)               0         \n",
      "_________________________________________________________________\n",
      "dense_1 (Dense)              (None, 2)                 1026      \n",
      "_________________________________________________________________\n",
      "activation_2 (Activation)    (None, 2)                 0         \n",
      "=================================================================\n",
      "Total params: 5,096,194\n",
      "Trainable params: 5,094,658\n",
      "Non-trainable params: 1,536\n",
      "_________________________________________________________________\n"
     ]
    }
   ],
   "source": [
    "model.summary()"
   ]
  },
  {
   "cell_type": "code",
   "execution_count": 12,
   "metadata": {},
   "outputs": [],
   "source": [
    "opt = Adam(lr=0.0003, beta_1=0.9, beta_2=0.999, decay=0.01)\n",
    "model.compile(loss='binary_crossentropy', optimizer=opt, metrics=[\"accuracy\"])"
   ]
  },
  {
   "cell_type": "code",
   "execution_count": 13,
   "metadata": {
    "scrolled": true
   },
   "outputs": [
    {
     "name": "stdout",
     "output_type": "stream",
     "text": [
      "Epoch 1/100\n",
      "14333/14333 [==============================] - 28s 2ms/step - loss: 0.4812 - acc: 0.7746\n",
      "Epoch 2/100\n",
      "14333/14333 [==============================] - 25s 2ms/step - loss: 0.3881 - acc: 0.8393\n",
      "Epoch 3/100\n",
      "14333/14333 [==============================] - 25s 2ms/step - loss: 0.3602 - acc: 0.8543\n",
      "Epoch 4/100\n",
      "14333/14333 [==============================] - 25s 2ms/step - loss: 0.3471 - acc: 0.8577\n",
      "Epoch 5/100\n",
      "14333/14333 [==============================] - 25s 2ms/step - loss: 0.3387 - acc: 0.8613\n",
      "Epoch 6/100\n",
      "14333/14333 [==============================] - 25s 2ms/step - loss: 0.3308 - acc: 0.8690\n",
      "Epoch 7/100\n",
      "14333/14333 [==============================] - 25s 2ms/step - loss: 0.3260 - acc: 0.8670\n",
      "Epoch 8/100\n",
      "14333/14333 [==============================] - 25s 2ms/step - loss: 0.3162 - acc: 0.8730\n",
      "Epoch 9/100\n",
      "14333/14333 [==============================] - 25s 2ms/step - loss: 0.3119 - acc: 0.8745\n",
      "Epoch 10/100\n",
      "14333/14333 [==============================] - 25s 2ms/step - loss: 0.3093 - acc: 0.8794\n",
      "Epoch 11/100\n",
      "14333/14333 [==============================] - 25s 2ms/step - loss: 0.3068 - acc: 0.8783\n",
      "Epoch 12/100\n",
      "14333/14333 [==============================] - 25s 2ms/step - loss: 0.3045 - acc: 0.8797\n",
      "Epoch 13/100\n",
      "14333/14333 [==============================] - 25s 2ms/step - loss: 0.2922 - acc: 0.8861\n",
      "Epoch 14/100\n",
      "14333/14333 [==============================] - 25s 2ms/step - loss: 0.2932 - acc: 0.8861\n",
      "Epoch 15/100\n",
      "14333/14333 [==============================] - 25s 2ms/step - loss: 0.2910 - acc: 0.8848\n",
      "Epoch 16/100\n",
      "14333/14333 [==============================] - 25s 2ms/step - loss: 0.2910 - acc: 0.8850\n",
      "Epoch 17/100\n",
      "14333/14333 [==============================] - 25s 2ms/step - loss: 0.2870 - acc: 0.8875\n",
      "Epoch 18/100\n",
      "14333/14333 [==============================] - 25s 2ms/step - loss: 0.2834 - acc: 0.8892\n",
      "Epoch 19/100\n",
      "14333/14333 [==============================] - 25s 2ms/step - loss: 0.2793 - acc: 0.8900\n",
      "Epoch 20/100\n",
      "14333/14333 [==============================] - 25s 2ms/step - loss: 0.2786 - acc: 0.8934\n",
      "Epoch 21/100\n",
      "14333/14333 [==============================] - 25s 2ms/step - loss: 0.2771 - acc: 0.8895\n",
      "Epoch 22/100\n",
      "14333/14333 [==============================] - 25s 2ms/step - loss: 0.2732 - acc: 0.8919\n",
      "Epoch 23/100\n",
      "14333/14333 [==============================] - 25s 2ms/step - loss: 0.2755 - acc: 0.8916\n",
      "Epoch 24/100\n",
      "14333/14333 [==============================] - 25s 2ms/step - loss: 0.2713 - acc: 0.8927\n",
      "Epoch 25/100\n",
      "14333/14333 [==============================] - 25s 2ms/step - loss: 0.2716 - acc: 0.8928\n",
      "Epoch 26/100\n",
      "14333/14333 [==============================] - 25s 2ms/step - loss: 0.2669 - acc: 0.8970\n",
      "Epoch 27/100\n",
      "14333/14333 [==============================] - 25s 2ms/step - loss: 0.2657 - acc: 0.8956\n",
      "Epoch 28/100\n",
      "14333/14333 [==============================] - 25s 2ms/step - loss: 0.2670 - acc: 0.8940\n",
      "Epoch 29/100\n",
      "14333/14333 [==============================] - 25s 2ms/step - loss: 0.2598 - acc: 0.8977\n",
      "Epoch 30/100\n",
      "14333/14333 [==============================] - 25s 2ms/step - loss: 0.2654 - acc: 0.8960\n",
      "Epoch 31/100\n",
      "14333/14333 [==============================] - 25s 2ms/step - loss: 0.2618 - acc: 0.8990\n",
      "Epoch 32/100\n",
      "14333/14333 [==============================] - 25s 2ms/step - loss: 0.2576 - acc: 0.9002\n",
      "Epoch 33/100\n",
      "14333/14333 [==============================] - 25s 2ms/step - loss: 0.2576 - acc: 0.9006\n",
      "Epoch 34/100\n",
      "14333/14333 [==============================] - 25s 2ms/step - loss: 0.2568 - acc: 0.8990\n",
      "Epoch 35/100\n",
      "14333/14333 [==============================] - 25s 2ms/step - loss: 0.2599 - acc: 0.8960\n",
      "Epoch 36/100\n",
      "14333/14333 [==============================] - 25s 2ms/step - loss: 0.2569 - acc: 0.9014\n",
      "Epoch 37/100\n",
      "14333/14333 [==============================] - 25s 2ms/step - loss: 0.2511 - acc: 0.9013\n",
      "Epoch 38/100\n",
      "14333/14333 [==============================] - 25s 2ms/step - loss: 0.2531 - acc: 0.9023\n",
      "Epoch 39/100\n",
      "14333/14333 [==============================] - 25s 2ms/step - loss: 0.2498 - acc: 0.9028\n",
      "Epoch 40/100\n",
      "14333/14333 [==============================] - 25s 2ms/step - loss: 0.2490 - acc: 0.9025\n",
      "Epoch 41/100\n",
      "14333/14333 [==============================] - 25s 2ms/step - loss: 0.2532 - acc: 0.9023\n",
      "Epoch 42/100\n",
      "14333/14333 [==============================] - 25s 2ms/step - loss: 0.2479 - acc: 0.9009\n",
      "Epoch 43/100\n",
      "14333/14333 [==============================] - 25s 2ms/step - loss: 0.2477 - acc: 0.9048\n",
      "Epoch 44/100\n",
      "14333/14333 [==============================] - 25s 2ms/step - loss: 0.2475 - acc: 0.9048\n",
      "Epoch 45/100\n",
      "14333/14333 [==============================] - 25s 2ms/step - loss: 0.2444 - acc: 0.9065\n",
      "Epoch 46/100\n",
      "14333/14333 [==============================] - 25s 2ms/step - loss: 0.2452 - acc: 0.9041\n",
      "Epoch 47/100\n",
      "14333/14333 [==============================] - 25s 2ms/step - loss: 0.2455 - acc: 0.9045\n",
      "Epoch 48/100\n",
      "14333/14333 [==============================] - 25s 2ms/step - loss: 0.2445 - acc: 0.9058\n",
      "Epoch 49/100\n",
      "14333/14333 [==============================] - 25s 2ms/step - loss: 0.2433 - acc: 0.9043\n",
      "Epoch 50/100\n",
      "14333/14333 [==============================] - 25s 2ms/step - loss: 0.2408 - acc: 0.9072\n",
      "Epoch 51/100\n",
      "14333/14333 [==============================] - 25s 2ms/step - loss: 0.2429 - acc: 0.9058\n",
      "Epoch 52/100\n",
      "14333/14333 [==============================] - 25s 2ms/step - loss: 0.2409 - acc: 0.9053\n",
      "Epoch 53/100\n",
      "14333/14333 [==============================] - 25s 2ms/step - loss: 0.2420 - acc: 0.9048\n",
      "Epoch 54/100\n",
      "14333/14333 [==============================] - 25s 2ms/step - loss: 0.2383 - acc: 0.9087\n",
      "Epoch 55/100\n",
      "14333/14333 [==============================] - 25s 2ms/step - loss: 0.2390 - acc: 0.9064\n",
      "Epoch 56/100\n",
      "14333/14333 [==============================] - 25s 2ms/step - loss: 0.2423 - acc: 0.9064\n",
      "Epoch 57/100\n",
      "14333/14333 [==============================] - 25s 2ms/step - loss: 0.2399 - acc: 0.9069\n",
      "Epoch 58/100\n",
      "14333/14333 [==============================] - 25s 2ms/step - loss: 0.2363 - acc: 0.9073\n",
      "Epoch 59/100\n",
      "14333/14333 [==============================] - 25s 2ms/step - loss: 0.2419 - acc: 0.9064\n",
      "Epoch 60/100\n",
      "14333/14333 [==============================] - 25s 2ms/step - loss: 0.2351 - acc: 0.9103\n",
      "Epoch 61/100\n",
      "14333/14333 [==============================] - 25s 2ms/step - loss: 0.2369 - acc: 0.9090\n",
      "Epoch 62/100\n",
      "14333/14333 [==============================] - 25s 2ms/step - loss: 0.2352 - acc: 0.9090\n",
      "Epoch 63/100\n",
      "14333/14333 [==============================] - 25s 2ms/step - loss: 0.2331 - acc: 0.9099\n",
      "Epoch 64/100\n",
      "14333/14333 [==============================] - 25s 2ms/step - loss: 0.2329 - acc: 0.9106\n",
      "Epoch 65/100\n",
      "14333/14333 [==============================] - 25s 2ms/step - loss: 0.2307 - acc: 0.9102\n",
      "Epoch 66/100\n",
      "14333/14333 [==============================] - 25s 2ms/step - loss: 0.2321 - acc: 0.9092\n",
      "Epoch 67/100\n",
      "14333/14333 [==============================] - 25s 2ms/step - loss: 0.2342 - acc: 0.9099\n",
      "Epoch 68/100\n",
      "14333/14333 [==============================] - 25s 2ms/step - loss: 0.2296 - acc: 0.9120\n",
      "Epoch 69/100\n",
      "14333/14333 [==============================] - 25s 2ms/step - loss: 0.2272 - acc: 0.9120\n",
      "Epoch 70/100\n",
      "14333/14333 [==============================] - 25s 2ms/step - loss: 0.2299 - acc: 0.9137\n",
      "Epoch 71/100\n",
      "14333/14333 [==============================] - 25s 2ms/step - loss: 0.2333 - acc: 0.9098\n",
      "Epoch 72/100\n",
      "14333/14333 [==============================] - 25s 2ms/step - loss: 0.2312 - acc: 0.9101\n",
      "Epoch 73/100\n",
      "14333/14333 [==============================] - 25s 2ms/step - loss: 0.2298 - acc: 0.9116\n",
      "Epoch 74/100\n",
      "14333/14333 [==============================] - 25s 2ms/step - loss: 0.2264 - acc: 0.9124\n",
      "Epoch 75/100\n",
      "14333/14333 [==============================] - 25s 2ms/step - loss: 0.2233 - acc: 0.9150\n",
      "Epoch 76/100\n",
      "14333/14333 [==============================] - 25s 2ms/step - loss: 0.2263 - acc: 0.9125\n",
      "Epoch 77/100\n",
      "14333/14333 [==============================] - 25s 2ms/step - loss: 0.2276 - acc: 0.9129\n",
      "Epoch 78/100\n",
      "14333/14333 [==============================] - 25s 2ms/step - loss: 0.2256 - acc: 0.9109\n",
      "Epoch 79/100\n",
      "14333/14333 [==============================] - 25s 2ms/step - loss: 0.2292 - acc: 0.9093\n",
      "Epoch 80/100\n",
      "14333/14333 [==============================] - 25s 2ms/step - loss: 0.2283 - acc: 0.9103\n",
      "Epoch 81/100\n",
      "14333/14333 [==============================] - 25s 2ms/step - loss: 0.2269 - acc: 0.9120\n",
      "Epoch 82/100\n",
      "14333/14333 [==============================] - 24s 2ms/step - loss: 0.2249 - acc: 0.9117\n",
      "Epoch 83/100\n",
      "14333/14333 [==============================] - 24s 2ms/step - loss: 0.2234 - acc: 0.9149\n",
      "Epoch 84/100\n",
      "14333/14333 [==============================] - 25s 2ms/step - loss: 0.2195 - acc: 0.9150\n",
      "Epoch 85/100\n",
      "14333/14333 [==============================] - 24s 2ms/step - loss: 0.2206 - acc: 0.9141\n",
      "Epoch 86/100\n",
      "14333/14333 [==============================] - 24s 2ms/step - loss: 0.2206 - acc: 0.9129\n",
      "Epoch 87/100\n",
      "14333/14333 [==============================] - 24s 2ms/step - loss: 0.2233 - acc: 0.9133\n",
      "Epoch 88/100\n",
      "14333/14333 [==============================] - 24s 2ms/step - loss: 0.2231 - acc: 0.9135\n",
      "Epoch 89/100\n",
      "14333/14333 [==============================] - 24s 2ms/step - loss: 0.2226 - acc: 0.9138\n",
      "Epoch 90/100\n",
      "14333/14333 [==============================] - 24s 2ms/step - loss: 0.2241 - acc: 0.9120\n",
      "Epoch 91/100\n",
      "14333/14333 [==============================] - 24s 2ms/step - loss: 0.2207 - acc: 0.9134\n",
      "Epoch 92/100\n",
      "14333/14333 [==============================] - 24s 2ms/step - loss: 0.2191 - acc: 0.9168\n",
      "Epoch 93/100\n",
      "14333/14333 [==============================] - 25s 2ms/step - loss: 0.2238 - acc: 0.9125\n",
      "Epoch 94/100\n",
      "14333/14333 [==============================] - 24s 2ms/step - loss: 0.2252 - acc: 0.9143\n",
      "Epoch 95/100\n",
      "14333/14333 [==============================] - 24s 2ms/step - loss: 0.2235 - acc: 0.9146\n",
      "Epoch 96/100\n",
      "14333/14333 [==============================] - 24s 2ms/step - loss: 0.2150 - acc: 0.9157\n",
      "Epoch 97/100\n",
      "14333/14333 [==============================] - 25s 2ms/step - loss: 0.2187 - acc: 0.9166\n",
      "Epoch 98/100\n",
      "14333/14333 [==============================] - 25s 2ms/step - loss: 0.2170 - acc: 0.9168\n",
      "Epoch 99/100\n",
      "14333/14333 [==============================] - 24s 2ms/step - loss: 0.2196 - acc: 0.9140\n",
      "Epoch 100/100\n",
      "14333/14333 [==============================] - 25s 2ms/step - loss: 0.2188 - acc: 0.9124\n"
     ]
    },
    {
     "data": {
      "text/plain": [
       "<keras.callbacks.History at 0x7f44fd4f9438>"
      ]
     },
     "execution_count": 13,
     "metadata": {},
     "output_type": "execute_result"
    }
   ],
   "source": [
    "model.fit(X_train, Y_train, batch_size = 64, epochs=100)"
   ]
  },
  {
   "cell_type": "code",
   "execution_count": 14,
   "metadata": {},
   "outputs": [],
   "source": [
    "model_json = model.to_json()\n",
    "with open (\"LSTMModel.json\", \"w\") as json_file:\n",
    "    json_file.write(model_json)\n",
    "model.save_weights(\"LSTMModel.h5\")"
   ]
  },
  {
   "cell_type": "code",
   "execution_count": 15,
   "metadata": {},
   "outputs": [
    {
     "name": "stdout",
     "output_type": "stream",
     "text": [
      "4778/4778 [==============================] - 4s 855us/step\n",
      "Validation set accuracy =  0.8576810380663019\n"
     ]
    }
   ],
   "source": [
    "loss, acc = model.evaluate(X_test, Y_test)\n",
    "print(\"Validation set accuracy = \", acc)"
   ]
  }
 ],
 "metadata": {
  "kernelspec": {
   "display_name": "TensorFlow",
   "language": "python",
   "name": "tensorflow"
  },
  "language_info": {
   "codemirror_mode": {
    "name": "ipython",
    "version": 3
   },
   "file_extension": ".py",
   "mimetype": "text/x-python",
   "name": "python",
   "nbconvert_exporter": "python",
   "pygments_lexer": "ipython3",
   "version": "3.6.4"
  }
 },
 "nbformat": 4,
 "nbformat_minor": 2
}
